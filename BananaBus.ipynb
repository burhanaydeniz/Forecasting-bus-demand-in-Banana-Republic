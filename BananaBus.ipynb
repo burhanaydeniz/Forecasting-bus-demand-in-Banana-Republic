{
  "nbformat": 4,
  "nbformat_minor": 0,
  "metadata": {
    "colab": {
      "name": "BananaBus.ipynb",
      "provenance": [],
      "collapsed_sections": []
    },
    "kernelspec": {
      "name": "python3",
      "display_name": "Python 3"
    },
    "language_info": {
      "name": "python"
    }
  },
  "cells": [
    {
      "cell_type": "markdown",
      "source": [
        "In this task, Forecasting bus demand in Banana Republic municipalities is aimed. The data that is presented from PIWorks has the number of used buses for an hour in each municipality. To forecast bus demand, in this notebook,the amount of usage is used with LSTM (Long-Short Term Model).\n",
        "Firstly, the timestamp column is set to obtain two different column as date and time column. After that, according to given necessity, the dataset is split with the last two weeks being the test dataset. Then, the dataset is split for each municipality and LSTM was applied for each municipality dataset. According to results, the model gives graphs that can be observed demand behaviors. Also, by analyzing metric results, when there is low demand, the model gives better performances. In municipality 1, the demand is higher than the total capacity of municipality 1. Also, in municipality 2,5, and 7, the demand is almost near or equal to the total capacities. "
      ],
      "metadata": {
        "id": "zDHAGAwV_CB9"
      }
    },
    {
      "cell_type": "code",
      "source": [
        "from google.colab import drive\n",
        "drive.mount('/content/drive')"
      ],
      "metadata": {
        "colab": {
          "base_uri": "https://localhost:8080/"
        },
        "id": "8MP3f30TV1qK",
        "outputId": "eba77ecf-a0f7-49d9-b201-f0ccb091ce11"
      },
      "execution_count": 2,
      "outputs": [
        {
          "output_type": "stream",
          "name": "stdout",
          "text": [
            "Mounted at /content/drive\n"
          ]
        }
      ]
    },
    {
      "cell_type": "code",
      "source": [
        "import pandas as pd\n",
        "df = pd.read_csv('/content/drive/MyDrive//BananaBus/municipality_bus_utilization.csv')\n",
        "print(df)"
      ],
      "metadata": {
        "colab": {
          "base_uri": "https://localhost:8080/"
        },
        "id": "hFsJ7DB6V22d",
        "outputId": "a9ee7150-a957-4636-bcf8-7b15531e07d1"
      },
      "execution_count": 3,
      "outputs": [
        {
          "output_type": "stream",
          "name": "stdout",
          "text": [
            "                 timestamp  municipality_id  usage  total_capacity\n",
            "0      2017-06-04 07:59:42                9    454            1332\n",
            "1      2017-06-04 07:59:42                8    556            2947\n",
            "2      2017-06-04 07:59:42                4   1090            3893\n",
            "3      2017-06-04 07:59:42                0    204            2813\n",
            "4      2017-06-04 07:59:42                7    718            2019\n",
            "...                    ...              ...    ...             ...\n",
            "13065  2017-08-19 16:30:35                2    548             697\n",
            "13066  2017-08-19 16:30:35                8   1193            2947\n",
            "13067  2017-08-19 16:30:35                7   1354            2019\n",
            "13068  2017-08-19 16:30:35                6   1680            3113\n",
            "13069  2017-08-19 16:30:35                3   1189            1930\n",
            "\n",
            "[13070 rows x 4 columns]\n"
          ]
        }
      ]
    },
    {
      "cell_type": "code",
      "source": [
        "adf = pd.DataFrame({'datetime':pd.date_range('2020-01-01 07:10',periods=6)})\n",
        "print(\"DataFrame is:\\n\", adf)"
      ],
      "metadata": {
        "colab": {
          "base_uri": "https://localhost:8080/"
        },
        "id": "XUojE2czanUs",
        "outputId": "06d66c4e-d975-459d-a593-f699f9373656"
      },
      "execution_count": 4,
      "outputs": [
        {
          "output_type": "stream",
          "name": "stdout",
          "text": [
            "DataFrame is:\n",
            "              datetime\n",
            "0 2020-01-01 07:10:00\n",
            "1 2020-01-02 07:10:00\n",
            "2 2020-01-03 07:10:00\n",
            "3 2020-01-04 07:10:00\n",
            "4 2020-01-05 07:10:00\n",
            "5 2020-01-06 07:10:00\n"
          ]
        }
      ]
    },
    {
      "cell_type": "code",
      "source": [
        "df['date'] = pd.to_datetime(df['timestamp']).dt.date\n",
        "df['time'] = pd.to_datetime(df['timestamp']).dt.time"
      ],
      "metadata": {
        "id": "2oAXApK1avpg"
      },
      "execution_count": 5,
      "outputs": []
    },
    {
      "cell_type": "code",
      "source": [
        "print(df)"
      ],
      "metadata": {
        "colab": {
          "base_uri": "https://localhost:8080/"
        },
        "id": "xjkmaB_ba1Bf",
        "outputId": "99a39c53-fd54-4d2e-a343-f4febc8f218b"
      },
      "execution_count": 6,
      "outputs": [
        {
          "output_type": "stream",
          "name": "stdout",
          "text": [
            "                 timestamp  municipality_id  usage  total_capacity  \\\n",
            "0      2017-06-04 07:59:42                9    454            1332   \n",
            "1      2017-06-04 07:59:42                8    556            2947   \n",
            "2      2017-06-04 07:59:42                4   1090            3893   \n",
            "3      2017-06-04 07:59:42                0    204            2813   \n",
            "4      2017-06-04 07:59:42                7    718            2019   \n",
            "...                    ...              ...    ...             ...   \n",
            "13065  2017-08-19 16:30:35                2    548             697   \n",
            "13066  2017-08-19 16:30:35                8   1193            2947   \n",
            "13067  2017-08-19 16:30:35                7   1354            2019   \n",
            "13068  2017-08-19 16:30:35                6   1680            3113   \n",
            "13069  2017-08-19 16:30:35                3   1189            1930   \n",
            "\n",
            "             date      time  \n",
            "0      2017-06-04  07:59:42  \n",
            "1      2017-06-04  07:59:42  \n",
            "2      2017-06-04  07:59:42  \n",
            "3      2017-06-04  07:59:42  \n",
            "4      2017-06-04  07:59:42  \n",
            "...           ...       ...  \n",
            "13065  2017-08-19  16:30:35  \n",
            "13066  2017-08-19  16:30:35  \n",
            "13067  2017-08-19  16:30:35  \n",
            "13068  2017-08-19  16:30:35  \n",
            "13069  2017-08-19  16:30:35  \n",
            "\n",
            "[13070 rows x 6 columns]\n"
          ]
        }
      ]
    },
    {
      "cell_type": "code",
      "source": [
        "ddf = df.drop(labels='timestamp', axis=1)"
      ],
      "metadata": {
        "id": "9Tv4BFcmbP-M"
      },
      "execution_count": 7,
      "outputs": []
    },
    {
      "cell_type": "code",
      "source": [
        "import matplotlib.pyplot as plt\n",
        "train = ddf[ddf.date < pd.to_datetime(\"2017-08-15\", format='%Y-%m-%d')]\n",
        "test = ddf[ddf.date >= pd.to_datetime(\"2017-08-15\", format='%Y-%m-%d')]"
      ],
      "metadata": {
        "colab": {
          "base_uri": "https://localhost:8080/"
        },
        "id": "y_0Q2SiUWShh",
        "outputId": "15d16f08-1593-4b7d-8a1b-3cdabc52447f"
      },
      "execution_count": 8,
      "outputs": [
        {
          "output_type": "stream",
          "name": "stderr",
          "text": [
            "/usr/local/lib/python3.7/dist-packages/pandas/core/ops/array_ops.py:73: FutureWarning: Comparison of Timestamp with datetime.date is deprecated in order to match the standard library behavior.  In a future version these will be considered non-comparable.Use 'ts == pd.Timestamp(date)' or 'ts.date() == date' instead.\n",
            "  result = libops.scalar_compare(x.ravel(), y, op)\n"
          ]
        }
      ]
    },
    {
      "cell_type": "code",
      "source": [
        "print(train)"
      ],
      "metadata": {
        "colab": {
          "base_uri": "https://localhost:8080/"
        },
        "id": "AbcNoGGMcoh_",
        "outputId": "50af162b-7d84-4994-c544-775658b8d934"
      },
      "execution_count": 9,
      "outputs": [
        {
          "output_type": "stream",
          "name": "stdout",
          "text": [
            "       municipality_id  usage  total_capacity        date      time\n",
            "0                    9    454            1332  2017-06-04  07:59:42\n",
            "1                    8    556            2947  2017-06-04  07:59:42\n",
            "2                    4   1090            3893  2017-06-04  07:59:42\n",
            "3                    0    204            2813  2017-06-04  07:59:42\n",
            "4                    7    718            2019  2017-06-04  07:59:42\n",
            "...                ...    ...             ...         ...       ...\n",
            "12165                5    143             587  2017-08-14  16:30:00\n",
            "12166                1    381             397  2017-08-14  16:30:00\n",
            "12167                9    728            1332  2017-08-14  16:30:00\n",
            "12168                4   2601            3893  2017-08-14  16:30:00\n",
            "12169                2    588             697  2017-08-14  16:30:00\n",
            "\n",
            "[12170 rows x 5 columns]\n"
          ]
        }
      ]
    },
    {
      "cell_type": "code",
      "source": [
        "print(test)"
      ],
      "metadata": {
        "colab": {
          "base_uri": "https://localhost:8080/"
        },
        "id": "_IwfQ9fTc2NV",
        "outputId": "a0047c1f-7050-48e4-d0e4-4ec4ced34208"
      },
      "execution_count": 10,
      "outputs": [
        {
          "output_type": "stream",
          "name": "stdout",
          "text": [
            "       municipality_id  usage  total_capacity        date      time\n",
            "12170                5     23             587  2017-08-15  07:57:02\n",
            "12171                3    597            1930  2017-08-15  07:57:02\n",
            "12172                7    730            2019  2017-08-15  07:57:02\n",
            "12173                8    539            2947  2017-08-15  07:57:02\n",
            "12174                1    160             397  2017-08-15  07:57:02\n",
            "...                ...    ...             ...         ...       ...\n",
            "13065                2    548             697  2017-08-19  16:30:35\n",
            "13066                8   1193            2947  2017-08-19  16:30:35\n",
            "13067                7   1354            2019  2017-08-19  16:30:35\n",
            "13068                6   1680            3113  2017-08-19  16:30:35\n",
            "13069                3   1189            1930  2017-08-19  16:30:35\n",
            "\n",
            "[900 rows x 5 columns]\n"
          ]
        }
      ]
    },
    {
      "cell_type": "code",
      "source": [
        "plt.plot(train.usage)\n",
        "plt.plot(test.usage)\n",
        "plt.ylabel('Usage')\n",
        "plt.xlabel('Date')\n",
        "plt.title(\"Train/Test split for Usage\")\n",
        "plt.show()"
      ],
      "metadata": {
        "colab": {
          "base_uri": "https://localhost:8080/",
          "height": 295
        },
        "id": "CwkhBrxEdCbP",
        "outputId": "a669e65a-1537-4aa0-ea2a-7914fba381d6"
      },
      "execution_count": 11,
      "outputs": [
        {
          "output_type": "display_data",
          "data": {
            "text/plain": [
              "<Figure size 432x288 with 1 Axes>"
            ],
            "image/png": "[encoded data removed]"
          },
          "metadata": {
            "needs_background": "light"
          }
        }
      ]
    },
    {
      "cell_type": "code",
      "source": [
        "train.groupby('municipality_id')['usage'].mean().plot.bar()"
      ],
      "metadata": {
        "colab": {
          "base_uri": "https://localhost:8080/",
          "height": 294
        },
        "id": "VRj3-MzkdctC",
        "outputId": "b717fb56-3170-4db9-84a0-b5781d11df04"
      },
      "execution_count": 11,
      "outputs": [
        {
          "output_type": "execute_result",
          "data": {
            "text/plain": [
              "<matplotlib.axes._subplots.AxesSubplot at 0x7f8cb8f7d6d0>"
            ]
          },
          "metadata": {},
          "execution_count": 11
        },
        {
          "output_type": "display_data",
          "data": {
            "text/plain": [
              "<Figure size 432x288 with 1 Axes>"
            ],
            "image/png": "[encoded data removed]"
          },
          "metadata": {
            "needs_background": "light"
          }
        }
      ]
    },
    {
      "cell_type": "code",
      "source": [
        "train.groupby('date')['usage'].mean().plot.bar()"
      ],
      "metadata": {
        "colab": {
          "base_uri": "https://localhost:8080/",
          "height": 344
        },
        "id": "ziJvOIdPh80m",
        "outputId": "0aa97136-4120-4b6a-9b15-1abd1becaa5f"
      },
      "execution_count": 105,
      "outputs": [
        {
          "output_type": "execute_result",
          "data": {
            "text/plain": [
              "<matplotlib.axes._subplots.AxesSubplot at 0x7f7a8477f150>"
            ]
          },
          "metadata": {},
          "execution_count": 105
        },
        {
          "output_type": "display_data",
          "data": {
            "text/plain": [
              "<Figure size 432x288 with 1 Axes>"
            ],
            "image/png": "[encoded data removed]"
          },
          "metadata": {
            "needs_background": "light"
          }
        }
      ]
    },
    {
      "cell_type": "code",
      "source": [
        "train.groupby('time')['usage'].mean().plot.bar()"
      ],
      "metadata": {
        "colab": {
          "base_uri": "https://localhost:8080/",
          "height": 331
        },
        "id": "k6IQz0-2d4Ba",
        "outputId": "265820b1-21f8-4f1d-edf0-020b1fd61bbc"
      },
      "execution_count": 106,
      "outputs": [
        {
          "output_type": "execute_result",
          "data": {
            "text/plain": [
              "<matplotlib.axes._subplots.AxesSubplot at 0x7f7a843bbed0>"
            ]
          },
          "metadata": {},
          "execution_count": 106
        },
        {
          "output_type": "display_data",
          "data": {
            "text/plain": [
              "<Figure size 432x288 with 1 Axes>"
            ],
            "image/png": "[encoded data removed]"
          },
          "metadata": {
            "needs_background": "light"
          }
        }
      ]
    },
    {
      "cell_type": "code",
      "source": [
        "train.groupby('total_capacity')['usage'].mean().plot.bar()"
      ],
      "metadata": {
        "colab": {
          "base_uri": "https://localhost:8080/",
          "height": 313
        },
        "id": "JBrAL1atd_x_",
        "outputId": "dcda1768-e77a-4d8c-8560-e8cf93c751b8"
      },
      "execution_count": 107,
      "outputs": [
        {
          "output_type": "execute_result",
          "data": {
            "text/plain": [
              "<matplotlib.axes._subplots.AxesSubplot at 0x7f7a8a1f5dd0>"
            ]
          },
          "metadata": {},
          "execution_count": 107
        },
        {
          "output_type": "display_data",
          "data": {
            "text/plain": [
              "<Figure size 432x288 with 1 Axes>"
            ],
            "image/png": "[encoded data removed]"
          },
          "metadata": {
            "needs_background": "light"
          }
        }
      ]
    },
    {
      "cell_type": "code",
      "source": [
        "test.groupby('municipality_id')['usage'].mean().plot.bar()"
      ],
      "metadata": {
        "colab": {
          "base_uri": "https://localhost:8080/",
          "height": 294
        },
        "id": "1Rih8SQjhmY9",
        "outputId": "3bef523e-d6d1-4928-eb32-7ad50538ee49"
      },
      "execution_count": 108,
      "outputs": [
        {
          "output_type": "execute_result",
          "data": {
            "text/plain": [
              "<matplotlib.axes._subplots.AxesSubplot at 0x7f7a7f761850>"
            ]
          },
          "metadata": {},
          "execution_count": 108
        },
        {
          "output_type": "display_data",
          "data": {
            "text/plain": [
              "<Figure size 432x288 with 1 Axes>"
            ],
            "image/png": "[encoded data removed]"
          },
          "metadata": {
            "needs_background": "light"
          }
        }
      ]
    },
    {
      "cell_type": "code",
      "source": [
        "test.groupby('total_capacity')['usage'].mean().plot.bar()"
      ],
      "metadata": {
        "colab": {
          "base_uri": "https://localhost:8080/",
          "height": 313
        },
        "id": "cVgygb9phsJr",
        "outputId": "39fc8f72-d2cf-44db-a4f3-f8f46848eebc"
      },
      "execution_count": 109,
      "outputs": [
        {
          "output_type": "execute_result",
          "data": {
            "text/plain": [
              "<matplotlib.axes._subplots.AxesSubplot at 0x7f7a83275cd0>"
            ]
          },
          "metadata": {},
          "execution_count": 109
        },
        {
          "output_type": "display_data",
          "data": {
            "text/plain": [
              "<Figure size 432x288 with 1 Axes>"
            ],
            "image/png": "[encoded data removed]"
          },
          "metadata": {
            "needs_background": "light"
          }
        }
      ]
    },
    {
      "cell_type": "code",
      "source": [
        "train0=train.loc[train['municipality_id'] == 0]\n",
        "test0=test.loc[test['municipality_id'] == 0]\n",
        "print(train0)"
      ],
      "metadata": {
        "colab": {
          "base_uri": "https://localhost:8080/"
        },
        "id": "_9zOzqZDiDPA",
        "outputId": "c9af21e4-ec25-499e-940c-4d710bf5b183"
      },
      "execution_count": 12,
      "outputs": [
        {
          "output_type": "stream",
          "name": "stdout",
          "text": [
            "       municipality_id  usage  total_capacity        date      time\n",
            "3                    0    204            2813  2017-06-04  07:59:42\n",
            "18                   0    247            2813  2017-06-04  08:25:42\n",
            "29                   0    332            2813  2017-06-04  08:59:42\n",
            "34                   0    429            2813  2017-06-04  09:32:46\n",
            "47                   0    485            2813  2017-06-04  09:59:48\n",
            "...                ...    ...             ...         ...       ...\n",
            "12129                0    627            2813  2017-08-14  14:30:01\n",
            "12131                0    614            2813  2017-08-14  14:56:03\n",
            "12143                0    593            2813  2017-08-14  15:30:00\n",
            "12151                0    563            2813  2017-08-14  15:56:02\n",
            "12162                0    519            2813  2017-08-14  16:30:00\n",
            "\n",
            "[1217 rows x 5 columns]\n"
          ]
        }
      ]
    },
    {
      "cell_type": "code",
      "source": [
        "train1=train.loc[train['municipality_id'] == 1]\n",
        "test1=test.loc[test['municipality_id'] == 1]\n",
        "print(train1)"
      ],
      "metadata": {
        "colab": {
          "base_uri": "https://localhost:8080/"
        },
        "id": "-Iw0nlYRwmYH",
        "outputId": "18c06348-0450-4d19-a792-0ddf340a2779"
      },
      "execution_count": 13,
      "outputs": [
        {
          "output_type": "stream",
          "name": "stdout",
          "text": [
            "       municipality_id  usage  total_capacity        date      time\n",
            "7                    1    129             397  2017-06-04  07:59:42\n",
            "19                   1    138             397  2017-06-04  08:25:42\n",
            "24                   1    164             397  2017-06-04  08:59:42\n",
            "36                   1    213             397  2017-06-04  09:32:46\n",
            "46                   1    245             397  2017-06-04  09:59:48\n",
            "...                ...    ...             ...         ...       ...\n",
            "12121                1    403             397  2017-08-14  14:30:01\n",
            "12138                1    403             397  2017-08-14  14:56:03\n",
            "12149                1    400             397  2017-08-14  15:30:00\n",
            "12155                1    394             397  2017-08-14  15:56:02\n",
            "12166                1    381             397  2017-08-14  16:30:00\n",
            "\n",
            "[1217 rows x 5 columns]\n"
          ]
        }
      ]
    },
    {
      "cell_type": "code",
      "source": [
        "train2=train.loc[train['municipality_id'] == 2]\n",
        "test2=test.loc[test['municipality_id'] == 2]\n",
        "print(train2)"
      ],
      "metadata": {
        "colab": {
          "base_uri": "https://localhost:8080/"
        },
        "id": "cwXJxDtKwsIn",
        "outputId": "c657a6f8-a212-493e-88cd-761270970388"
      },
      "execution_count": 14,
      "outputs": [
        {
          "output_type": "stream",
          "name": "stdout",
          "text": [
            "       municipality_id  usage  total_capacity        date      time\n",
            "6                    2    273             697  2017-06-04  07:59:42\n",
            "10                   2    311             697  2017-06-04  08:25:42\n",
            "23                   2    355             697  2017-06-04  08:59:42\n",
            "37                   2    423             697  2017-06-04  09:32:46\n",
            "41                   2    494             697  2017-06-04  09:59:48\n",
            "...                ...    ...             ...         ...       ...\n",
            "12128                2    687             697  2017-08-14  14:30:01\n",
            "12137                2    661             697  2017-08-14  14:56:03\n",
            "12141                2    639             697  2017-08-14  15:30:00\n",
            "12154                2    621             697  2017-08-14  15:56:02\n",
            "12169                2    588             697  2017-08-14  16:30:00\n",
            "\n",
            "[1217 rows x 5 columns]\n"
          ]
        }
      ]
    },
    {
      "cell_type": "code",
      "source": [
        "train3=train.loc[train['municipality_id'] == 3]\n",
        "test3=test.loc[test['municipality_id'] == 3]\n",
        "print(train3)"
      ],
      "metadata": {
        "colab": {
          "base_uri": "https://localhost:8080/"
        },
        "id": "WNxCgu48wwc6",
        "outputId": "b2a747bd-2b68-4d35-871c-7cca2ea54e72"
      },
      "execution_count": 15,
      "outputs": [
        {
          "output_type": "stream",
          "name": "stdout",
          "text": [
            "       municipality_id  usage  total_capacity        date      time\n",
            "9                    3    623            1930  2017-06-04  07:59:42\n",
            "17                   3    770            1930  2017-06-04  08:25:42\n",
            "22                   3    967            1930  2017-06-04  08:59:42\n",
            "39                   3   1130            1930  2017-06-04  09:32:46\n",
            "45                   3   1263            1930  2017-06-04  09:59:48\n",
            "...                ...    ...             ...         ...       ...\n",
            "12125                3   1482            1930  2017-08-14  14:30:01\n",
            "12136                3   1449            1930  2017-08-14  14:56:03\n",
            "12144                3   1380            1930  2017-08-14  15:30:00\n",
            "12156                3   1326            1930  2017-08-14  15:56:02\n",
            "12160                3   1172            1930  2017-08-14  16:30:00\n",
            "\n",
            "[1217 rows x 5 columns]\n"
          ]
        }
      ]
    },
    {
      "cell_type": "code",
      "source": [
        "train4=train.loc[train['municipality_id'] == 4]\n",
        "test4=test.loc[test['municipality_id'] == 4]\n",
        "print(train4)"
      ],
      "metadata": {
        "colab": {
          "base_uri": "https://localhost:8080/"
        },
        "id": "G6KYmm2iw3gd",
        "outputId": "86c5c4d5-9f0a-4f58-89d6-c1f1b7eac434"
      },
      "execution_count": 78,
      "outputs": [
        {
          "output_type": "stream",
          "name": "stdout",
          "text": [
            "       municipality_id  usage  total_capacity        date      time\n",
            "2                    4   1090            3893  2017-06-04  07:59:42\n",
            "14                   4   1476            3893  2017-06-04  08:25:42\n",
            "26                   4   2016            3893  2017-06-04  08:59:42\n",
            "33                   4   2511            3893  2017-06-04  09:32:46\n",
            "43                   4   2811            3893  2017-06-04  09:59:48\n",
            "...                ...    ...             ...         ...       ...\n",
            "12123                4   3285            3893  2017-08-14  14:30:01\n",
            "12132                4   3184            3893  2017-08-14  14:56:03\n",
            "12148                4   3043            3893  2017-08-14  15:30:00\n",
            "12157                4   2890            3893  2017-08-14  15:56:02\n",
            "12168                4   2601            3893  2017-08-14  16:30:00\n",
            "\n",
            "[1217 rows x 5 columns]\n"
          ]
        }
      ]
    },
    {
      "cell_type": "code",
      "source": [
        "train5=train.loc[train['municipality_id'] == 5]\n",
        "test5=test.loc[test['municipality_id'] == 5]\n",
        "print(train5)"
      ],
      "metadata": {
        "colab": {
          "base_uri": "https://localhost:8080/"
        },
        "id": "n1fLDOs3w7yJ",
        "outputId": "70e52e71-651d-474a-9587-ef22891d7f67"
      },
      "execution_count": 17,
      "outputs": [
        {
          "output_type": "stream",
          "name": "stdout",
          "text": [
            "       municipality_id  usage  total_capacity        date      time\n",
            "5                    5     70             587  2017-06-04  07:59:42\n",
            "16                   5     73             587  2017-06-04  08:25:42\n",
            "20                   5     89             587  2017-06-04  08:59:42\n",
            "35                   5    116             587  2017-06-04  09:32:46\n",
            "40                   5    159             587  2017-06-04  09:59:48\n",
            "...                ...    ...             ...         ...       ...\n",
            "12122                5    182             587  2017-08-14  14:30:01\n",
            "12133                5    170             587  2017-08-14  14:56:03\n",
            "12140                5    151             587  2017-08-14  15:30:00\n",
            "12150                5    154             587  2017-08-14  15:56:02\n",
            "12165                5    143             587  2017-08-14  16:30:00\n",
            "\n",
            "[1217 rows x 5 columns]\n"
          ]
        }
      ]
    },
    {
      "cell_type": "code",
      "source": [
        "train6=train.loc[train['municipality_id'] == 6]\n",
        "test6=test.loc[test['municipality_id'] == 6]\n",
        "print(train6)"
      ],
      "metadata": {
        "colab": {
          "base_uri": "https://localhost:8080/"
        },
        "id": "TGYeNK2ixa61",
        "outputId": "e72b1b6f-96d1-420d-b7d4-688d37c4381d"
      },
      "execution_count": 18,
      "outputs": [
        {
          "output_type": "stream",
          "name": "stdout",
          "text": [
            "       municipality_id  usage  total_capacity        date      time\n",
            "8                    6    597            3113  2017-06-04  07:59:42\n",
            "12                   6    687            3113  2017-06-04  08:25:42\n",
            "28                   6    801            3113  2017-06-04  08:59:42\n",
            "32                   6    941            3113  2017-06-04  09:32:46\n",
            "49                   6   1061            3113  2017-06-04  09:59:48\n",
            "...                ...    ...             ...         ...       ...\n",
            "12127                6   1216            3113  2017-08-14  14:30:01\n",
            "12130                6   1175            3113  2017-08-14  14:56:03\n",
            "12145                6   1117            3113  2017-08-14  15:30:00\n",
            "12158                6   1069            3113  2017-08-14  15:56:02\n",
            "12164                6    990            3113  2017-08-14  16:30:00\n",
            "\n",
            "[1217 rows x 5 columns]\n"
          ]
        }
      ]
    },
    {
      "cell_type": "code",
      "source": [
        "train7=train.loc[train['municipality_id'] == 7]\n",
        "test7=test.loc[test['municipality_id'] == 7]\n",
        "print(train7)"
      ],
      "metadata": {
        "colab": {
          "base_uri": "https://localhost:8080/"
        },
        "id": "RYjXiCbKxgf2",
        "outputId": "3e6ff7aa-382a-4d9e-fea8-56d78195f2c8"
      },
      "execution_count": 19,
      "outputs": [
        {
          "output_type": "stream",
          "name": "stdout",
          "text": [
            "       municipality_id  usage  total_capacity        date      time\n",
            "4                    7    718            2019  2017-06-04  07:59:42\n",
            "13                   7    789            2019  2017-06-04  08:25:42\n",
            "27                   7    873            2019  2017-06-04  08:59:42\n",
            "38                   7   1013            2019  2017-06-04  09:32:46\n",
            "44                   7   1151            2019  2017-06-04  09:59:48\n",
            "...                ...    ...             ...         ...       ...\n",
            "12126                7   1515            2019  2017-08-14  14:30:01\n",
            "12134                7   1477            2019  2017-08-14  14:56:03\n",
            "12142                7   1420            2019  2017-08-14  15:30:00\n",
            "12153                7   1383            2019  2017-08-14  15:56:02\n",
            "12163                7   1307            2019  2017-08-14  16:30:00\n",
            "\n",
            "[1217 rows x 5 columns]\n"
          ]
        }
      ]
    },
    {
      "cell_type": "code",
      "source": [
        "train8=train.loc[train['municipality_id'] == 8]\n",
        "test8=test.loc[test['municipality_id'] == 8]\n",
        "print(train8)"
      ],
      "metadata": {
        "colab": {
          "base_uri": "https://localhost:8080/"
        },
        "id": "sw5ENF0KxrC4",
        "outputId": "cde6992f-dcbb-4ad7-ecde-d6f2f4116c81"
      },
      "execution_count": 21,
      "outputs": [
        {
          "output_type": "stream",
          "name": "stdout",
          "text": [
            "       municipality_id  usage  total_capacity        date      time\n",
            "1                    8    556            2947  2017-06-04  07:59:42\n",
            "15                   8    674            2947  2017-06-04  08:25:42\n",
            "25                   8    857            2947  2017-06-04  08:59:42\n",
            "30                   8   1045            2947  2017-06-04  09:32:46\n",
            "42                   8   1172            2947  2017-06-04  09:59:48\n",
            "...                ...    ...             ...         ...       ...\n",
            "12120                8   1324            2947  2017-08-14  14:30:01\n",
            "12135                8   1306            2947  2017-08-14  14:56:03\n",
            "12146                8   1269            2947  2017-08-14  15:30:00\n",
            "12159                8   1238            2947  2017-08-14  15:56:02\n",
            "12161                8   1151            2947  2017-08-14  16:30:00\n",
            "\n",
            "[1217 rows x 5 columns]\n"
          ]
        }
      ]
    },
    {
      "cell_type": "code",
      "source": [
        "train9=train.loc[train['municipality_id'] == 9]\n",
        "test9=test.loc[test['municipality_id'] == 9]\n",
        "print(train9)"
      ],
      "metadata": {
        "colab": {
          "base_uri": "https://localhost:8080/"
        },
        "id": "umVZM9Nzxuq3",
        "outputId": "bdcdc590-73a6-4653-d33e-aaaf8681cb13"
      },
      "execution_count": 22,
      "outputs": [
        {
          "output_type": "stream",
          "name": "stdout",
          "text": [
            "       municipality_id  usage  total_capacity        date      time\n",
            "0                    9    454            1332  2017-06-04  07:59:42\n",
            "11                   9    487            1332  2017-06-04  08:25:42\n",
            "21                   9    527            1332  2017-06-04  08:59:42\n",
            "31                   9    599            1332  2017-06-04  09:32:46\n",
            "48                   9    666            1332  2017-06-04  09:59:48\n",
            "...                ...    ...             ...         ...       ...\n",
            "12124                9    837            1332  2017-08-14  14:30:01\n",
            "12139                9    825            1332  2017-08-14  14:56:03\n",
            "12147                9    790            1332  2017-08-14  15:30:00\n",
            "12152                9    771            1332  2017-08-14  15:56:02\n",
            "12167                9    728            1332  2017-08-14  16:30:00\n",
            "\n",
            "[1217 rows x 5 columns]\n"
          ]
        }
      ]
    },
    {
      "cell_type": "code",
      "source": [
        "import numpy as np\n",
        "from sklearn.preprocessing import MinMaxScaler\n",
        "\n",
        "scaler = MinMaxScaler(feature_range=(0,1))\n",
        "scaled_data = scaler.fit_transform(train0['usage'].values.reshape(-1,1)) \n",
        "\n",
        "prediction_days = 90\n",
        "\n",
        "x_train0 = []\n",
        "y_train0 = []\n",
        "\n",
        "for x in range(prediction_days, len(scaled_data)):\n",
        "    x_train0.append(scaled_data[x-prediction_days:x, 0])\n",
        "    y_train0.append(scaled_data[x, 0])\n",
        "\n",
        "\n",
        "x_train0, y_train0 = np.array(x_train0), np.array(y_train0)\n",
        "x_train0 = np.reshape(x_train0, (x_train0.shape[0], x_train0.shape[1], 1))\n",
        "\n",
        "from sklearn.preprocessing import MinMaxScaler\n",
        "from tensorflow.keras.models import Sequential\n",
        "from tensorflow.keras.layers import Dense, Dropout, LSTM\n",
        "\n",
        "model = Sequential()\n",
        "\n",
        "model.add(LSTM(units =128, activation='relu', return_sequences=True, input_shape = (x_train0.shape[1],1)))\n",
        "model.add(Dropout(0.2))\n",
        "model.add(LSTM(units =128, activation='relu', return_sequences=True))\n",
        "model.add(Dropout(0.2))\n",
        "model.add(LSTM(units =128, activation='relu', return_sequences=False))\n",
        "model.add(Dropout(0.2))\n",
        "model.add(Dense(units=1))\n",
        "\n",
        "model.compile(optimizer='adam', loss='mean_squared_error')\n",
        "model.summary()\n",
        "\n",
        "history = model.fit(x_train0, y_train0, epochs = 25, batch_size=32, validation_split=0.1)"
      ],
      "metadata": {
        "id": "Etj2FZUXGIJS",
        "colab": {
          "base_uri": "https://localhost:8080/"
        },
        "outputId": "c3612f1d-6a77-408c-9ffa-9b2a7392bd95"
      },
      "execution_count": 63,
      "outputs": [
        {
          "output_type": "stream",
          "name": "stdout",
          "text": [
            "Model: \"sequential_14\"\n",
            "_________________________________________________________________\n",
            " Layer (type)                Output Shape              Param #   \n",
            "=================================================================\n",
            " lstm_42 (LSTM)              (None, 90, 128)           66560     \n",
            "                                                                 \n",
            " dropout_42 (Dropout)        (None, 90, 128)           0         \n",
            "                                                                 \n",
            " lstm_43 (LSTM)              (None, 90, 128)           131584    \n",
            "                                                                 \n",
            " dropout_43 (Dropout)        (None, 90, 128)           0         \n",
            "                                                                 \n",
            " lstm_44 (LSTM)              (None, 128)               131584    \n",
            "                                                                 \n",
            " dropout_44 (Dropout)        (None, 128)               0         \n",
            "                                                                 \n",
            " dense_14 (Dense)            (None, 1)                 129       \n",
            "                                                                 \n",
            "=================================================================\n",
            "Total params: 329,857\n",
            "Trainable params: 329,857\n",
            "Non-trainable params: 0\n",
            "_________________________________________________________________\n",
            "Epoch 1/25\n",
            "32/32 [==============================] - 14s 333ms/step - loss: 0.0372 - val_loss: 0.0070\n",
            "Epoch 2/25\n",
            "32/32 [==============================] - 10s 319ms/step - loss: 0.0217 - val_loss: 0.0064\n",
            "Epoch 3/25\n",
            "32/32 [==============================] - 10s 321ms/step - loss: 0.0225 - val_loss: 0.0059\n",
            "Epoch 4/25\n",
            "32/32 [==============================] - 10s 321ms/step - loss: 0.0223 - val_loss: 0.0054\n",
            "Epoch 5/25\n",
            "32/32 [==============================] - 10s 320ms/step - loss: 0.0230 - val_loss: 0.0052\n",
            "Epoch 6/25\n",
            "32/32 [==============================] - 10s 321ms/step - loss: 0.0213 - val_loss: 0.0063\n",
            "Epoch 7/25\n",
            "32/32 [==============================] - 10s 322ms/step - loss: 0.0212 - val_loss: 0.0075\n",
            "Epoch 8/25\n",
            "32/32 [==============================] - 10s 323ms/step - loss: 0.0213 - val_loss: 0.0060\n",
            "Epoch 9/25\n",
            "32/32 [==============================] - 10s 326ms/step - loss: 0.0203 - val_loss: 0.0047\n",
            "Epoch 10/25\n",
            "32/32 [==============================] - 10s 324ms/step - loss: 0.0189 - val_loss: 0.0039\n",
            "Epoch 11/25\n",
            "32/32 [==============================] - 10s 323ms/step - loss: 0.0170 - val_loss: 0.0020\n",
            "Epoch 12/25\n",
            "32/32 [==============================] - 10s 322ms/step - loss: 0.0144 - val_loss: 0.0030\n",
            "Epoch 13/25\n",
            "32/32 [==============================] - 10s 321ms/step - loss: 0.0130 - val_loss: 0.0032\n",
            "Epoch 14/25\n",
            "32/32 [==============================] - 10s 320ms/step - loss: 0.0116 - val_loss: 0.0040\n",
            "Epoch 15/25\n",
            "32/32 [==============================] - 10s 323ms/step - loss: 0.0115 - val_loss: 0.0041\n",
            "Epoch 16/25\n",
            "32/32 [==============================] - 10s 323ms/step - loss: 0.0115 - val_loss: 0.0033\n",
            "Epoch 17/25\n",
            "32/32 [==============================] - 10s 323ms/step - loss: 0.0115 - val_loss: 0.0035\n",
            "Epoch 18/25\n",
            "32/32 [==============================] - 10s 322ms/step - loss: 0.0112 - val_loss: 0.0035\n",
            "Epoch 19/25\n",
            "32/32 [==============================] - 10s 323ms/step - loss: 0.0100 - val_loss: 0.0041\n",
            "Epoch 20/25\n",
            "32/32 [==============================] - 10s 322ms/step - loss: 0.0103 - val_loss: 0.0039\n",
            "Epoch 21/25\n",
            "32/32 [==============================] - 10s 321ms/step - loss: 0.0097 - val_loss: 0.0027\n",
            "Epoch 22/25\n",
            "32/32 [==============================] - 10s 321ms/step - loss: 0.0092 - val_loss: 0.0037\n",
            "Epoch 23/25\n",
            "32/32 [==============================] - 10s 320ms/step - loss: 0.0095 - val_loss: 0.0027\n",
            "Epoch 24/25\n",
            "32/32 [==============================] - 10s 323ms/step - loss: 0.0094 - val_loss: 0.0039\n",
            "Epoch 25/25\n",
            "32/32 [==============================] - 10s 323ms/step - loss: 0.0094 - val_loss: 0.0039\n"
          ]
        }
      ]
    },
    {
      "cell_type": "code",
      "source": [
        "model_inputs = test0['usage'].values\n",
        "model_inputs = model_inputs.reshape(-1,1)\n",
        "model_inputs = scaler.transform(model_inputs)\n",
        "\n",
        "\n",
        "x_test0 = np.array(model_inputs)\n",
        "x_test0 = np.reshape(x_test0, (x_test0.shape[0], x_test0.shape[1], 1))\n",
        "\n",
        "pred = model.predict(model_inputs)\n",
        "pred = scaler.inverse_transform(pred)\n",
        "scalerpred = MinMaxScaler(feature_range=(min(train0['usage'].values),max(train0['usage'].values)))\n",
        "scaled_pred = scalerpred.fit_transform(pred)"
      ],
      "metadata": {
        "id": "KaD9oHM3JokK",
        "colab": {
          "base_uri": "https://localhost:8080/"
        },
        "outputId": "c05b8b7c-7b1b-4bdb-f153-0fb5b34253af"
      },
      "execution_count": 64,
      "outputs": [
        {
          "output_type": "stream",
          "name": "stderr",
          "text": [
            "WARNING:tensorflow:Model was constructed with shape (None, 90, 1) for input KerasTensor(type_spec=TensorSpec(shape=(None, 90, 1), dtype=tf.float32, name='lstm_42_input'), name='lstm_42_input', description=\"created by layer 'lstm_42_input'\"), but it was called on an input with incompatible shape (None, 1, 1).\n"
          ]
        }
      ]
    },
    {
      "cell_type": "code",
      "source": [
        "plt.plot(scaled_pred,label='Prediciton')\n",
        "plt.plot(np.arange(0,90,1),test0.usage,label='Actual')\n",
        "plt.hlines(test0.total_capacity,0,90,color=\"red\",label='Total Capacity')\n",
        "plt.ylabel('Usage')\n",
        "plt.xlabel('Date')\n",
        "plt.title(\"Forecasting for Usage\")\n",
        "plt.legend(loc='upper left', fontsize=8)\n",
        "plt.show()"
      ],
      "metadata": {
        "colab": {
          "base_uri": "https://localhost:8080/",
          "height": 295
        },
        "id": "wbrgZL8rii9c",
        "outputId": "5ed5a622-175c-41ab-f0bb-7500cb1b52d4"
      },
      "execution_count": 65,
      "outputs": [
        {
          "output_type": "display_data",
          "data": {
            "text/plain": [
              "<Figure size 432x288 with 1 Axes>"
            ],
            "image/png": "[encoded data removed]"
          },
          "metadata": {
            "needs_background": "light"
          }
        }
      ]
    },
    {
      "cell_type": "code",
      "source": [
        "from sklearn.metrics import mean_absolute_error, mean_squared_error\n",
        "\n",
        "print('MAE:', mean_absolute_error(test0.usage, scaled_pred))\n",
        "print('MSE:', mean_squared_error(test0.usage, scaled_pred))"
      ],
      "metadata": {
        "colab": {
          "base_uri": "https://localhost:8080/"
        },
        "id": "Uy42Dt3O3THL",
        "outputId": "3ab1a640-04f0-47ad-c472-3661a2e6a117"
      },
      "execution_count": 66,
      "outputs": [
        {
          "output_type": "stream",
          "name": "stdout",
          "text": [
            "MAE: 188.0294921875\n",
            "MSE: 38997.18516412311\n"
          ]
        }
      ]
    },
    {
      "cell_type": "code",
      "source": [
        "scaler = MinMaxScaler(feature_range=(0,1))\n",
        "scaled_data = scaler.fit_transform(train1['usage'].values.reshape(-1,1)) \n",
        "\n",
        "prediction_days = 90\n",
        "\n",
        "x_train1 = []\n",
        "y_train1 = []\n",
        "\n",
        "for x in range(prediction_days, len(scaled_data)):\n",
        "    x_train1.append(scaled_data[x-prediction_days:x, 0])\n",
        "    y_train1.append(scaled_data[x, 0])\n",
        "\n",
        "\n",
        "x_train1, y_train1 = np.array(x_train1), np.array(y_train1)\n",
        "x_train1 = np.reshape(x_train1, (x_train1.shape[0], x_train1.shape[1], 1))\n",
        "\n",
        "model = Sequential()\n",
        "\n",
        "model.add(LSTM(units =128, activation='relu', return_sequences=True, input_shape = (x_train1.shape[1],1)))\n",
        "model.add(Dropout(0.2))\n",
        "model.add(LSTM(units =128, activation='relu', return_sequences=True))\n",
        "model.add(Dropout(0.2))\n",
        "model.add(LSTM(units =128, activation='relu', return_sequences=False))\n",
        "model.add(Dropout(0.2))\n",
        "model.add(Dense(units=1))\n",
        "\n",
        "model.compile(optimizer='adam', loss='mean_squared_error')\n",
        "model.summary()\n",
        "\n",
        "history = model.fit(x_train1, y_train1, epochs = 25, batch_size=32, validation_split=0.1)\n",
        "\n",
        "\n",
        "model_inputs = test1['usage'].values\n",
        "model_inputs = model_inputs.reshape(-1,1)\n",
        "model_inputs = scaler.transform(model_inputs)\n",
        "\n",
        "\n",
        "x_test1 = np.array(model_inputs)\n",
        "x_test1 = np.reshape(x_test1, (x_test1.shape[0], x_test1.shape[1], 1))\n",
        "\n",
        "pred = model.predict(model_inputs)\n",
        "pred = scaler.inverse_transform(pred)\n",
        "scalerpred = MinMaxScaler(feature_range=(min(train1['usage'].values),max(train1['usage'].values)))\n",
        "scaled_pred = scalerpred.fit_transform(pred)"
      ],
      "metadata": {
        "colab": {
          "base_uri": "https://localhost:8080/"
        },
        "id": "b1lEjN9fqlqO",
        "outputId": "9a95141a-ab4c-487e-a209-b4533e43e5bf"
      },
      "execution_count": 67,
      "outputs": [
        {
          "output_type": "stream",
          "name": "stdout",
          "text": [
            "Model: \"sequential_15\"\n",
            "_________________________________________________________________\n",
            " Layer (type)                Output Shape              Param #   \n",
            "=================================================================\n",
            " lstm_45 (LSTM)              (None, 90, 128)           66560     \n",
            "                                                                 \n",
            " dropout_45 (Dropout)        (None, 90, 128)           0         \n",
            "                                                                 \n",
            " lstm_46 (LSTM)              (None, 90, 128)           131584    \n",
            "                                                                 \n",
            " dropout_46 (Dropout)        (None, 90, 128)           0         \n",
            "                                                                 \n",
            " lstm_47 (LSTM)              (None, 128)               131584    \n",
            "                                                                 \n",
            " dropout_47 (Dropout)        (None, 128)               0         \n",
            "                                                                 \n",
            " dense_15 (Dense)            (None, 1)                 129       \n",
            "                                                                 \n",
            "=================================================================\n",
            "Total params: 329,857\n",
            "Trainable params: 329,857\n",
            "Non-trainable params: 0\n",
            "_________________________________________________________________\n",
            "Epoch 1/25\n",
            "32/32 [==============================] - 14s 336ms/step - loss: 0.1914 - val_loss: 0.0687\n",
            "Epoch 2/25\n",
            "32/32 [==============================] - 10s 320ms/step - loss: 0.0665 - val_loss: 0.0786\n",
            "Epoch 3/25\n",
            "32/32 [==============================] - 10s 321ms/step - loss: 0.0628 - val_loss: 0.0596\n",
            "Epoch 4/25\n",
            "32/32 [==============================] - 10s 321ms/step - loss: 0.0612 - val_loss: 0.0777\n",
            "Epoch 5/25\n",
            "32/32 [==============================] - 10s 320ms/step - loss: 0.0635 - val_loss: 0.0558\n",
            "Epoch 6/25\n",
            "32/32 [==============================] - 10s 321ms/step - loss: 0.0628 - val_loss: 0.0789\n",
            "Epoch 7/25\n",
            "32/32 [==============================] - 10s 320ms/step - loss: 0.0619 - val_loss: 0.0637\n",
            "Epoch 8/25\n",
            "32/32 [==============================] - 10s 321ms/step - loss: 0.0608 - val_loss: 0.0622\n",
            "Epoch 9/25\n",
            "32/32 [==============================] - 10s 320ms/step - loss: 0.0621 - val_loss: 0.0512\n",
            "Epoch 10/25\n",
            "32/32 [==============================] - 10s 319ms/step - loss: 0.0593 - val_loss: 0.0765\n",
            "Epoch 11/25\n",
            "32/32 [==============================] - 10s 318ms/step - loss: 0.0507 - val_loss: 0.0337\n",
            "Epoch 12/25\n",
            "32/32 [==============================] - 10s 321ms/step - loss: 0.0419 - val_loss: 0.0623\n",
            "Epoch 13/25\n",
            "32/32 [==============================] - 10s 321ms/step - loss: 0.0383 - val_loss: 0.0302\n",
            "Epoch 14/25\n",
            "32/32 [==============================] - 10s 319ms/step - loss: 0.0317 - val_loss: 0.0316\n",
            "Epoch 15/25\n",
            "32/32 [==============================] - 10s 321ms/step - loss: 0.0291 - val_loss: 0.0281\n",
            "Epoch 16/25\n",
            "32/32 [==============================] - 10s 324ms/step - loss: 0.0282 - val_loss: 0.0255\n",
            "Epoch 17/25\n",
            "32/32 [==============================] - 10s 321ms/step - loss: 0.0257 - val_loss: 0.0337\n",
            "Epoch 18/25\n",
            "32/32 [==============================] - 10s 322ms/step - loss: 0.0255 - val_loss: 0.0301\n",
            "Epoch 19/25\n",
            "32/32 [==============================] - 10s 322ms/step - loss: 0.0246 - val_loss: 0.0209\n",
            "Epoch 20/25\n",
            "32/32 [==============================] - 10s 323ms/step - loss: 0.0246 - val_loss: 0.0485\n",
            "Epoch 21/25\n",
            "32/32 [==============================] - 10s 322ms/step - loss: 0.0253 - val_loss: 0.0209\n",
            "Epoch 22/25\n",
            "32/32 [==============================] - 10s 320ms/step - loss: 0.0222 - val_loss: 0.0179\n",
            "Epoch 23/25\n",
            "32/32 [==============================] - 10s 323ms/step - loss: 0.0200 - val_loss: 0.0222\n",
            "Epoch 24/25\n",
            "32/32 [==============================] - 10s 322ms/step - loss: 0.0208 - val_loss: 0.0131\n",
            "Epoch 25/25\n",
            "32/32 [==============================] - 10s 321ms/step - loss: 0.0217 - val_loss: 0.0141\n"
          ]
        },
        {
          "output_type": "stream",
          "name": "stderr",
          "text": [
            "WARNING:tensorflow:Model was constructed with shape (None, 90, 1) for input KerasTensor(type_spec=TensorSpec(shape=(None, 90, 1), dtype=tf.float32, name='lstm_45_input'), name='lstm_45_input', description=\"created by layer 'lstm_45_input'\"), but it was called on an input with incompatible shape (None, 1, 1).\n"
          ]
        }
      ]
    },
    {
      "cell_type": "code",
      "source": [
        "plt.plot(scaled_pred,label='Prediciton')\n",
        "plt.plot(np.arange(0,90,1),test1.usage,label='Actual')\n",
        "plt.hlines(test1.total_capacity,0,90,color=\"red\",label='Total Capacity')\n",
        "plt.ylabel('Usage')\n",
        "plt.xlabel('Date')\n",
        "plt.title(\"Forecasting for Usage\")\n",
        "plt.legend(loc='upper left', fontsize=8)\n",
        "plt.show()\n",
        "\n",
        "from sklearn.metrics import mean_absolute_error, mean_squared_error\n",
        "\n",
        "print('MAE:', mean_absolute_error(test1.usage, scaled_pred))\n",
        "print('MSE:', mean_squared_error(test1.usage, scaled_pred))"
      ],
      "metadata": {
        "colab": {
          "base_uri": "https://localhost:8080/",
          "height": 329
        },
        "id": "_ASqrZNh2b3J",
        "outputId": "b36fc355-ff93-4de1-c9fb-2a0e25f08963"
      },
      "execution_count": 68,
      "outputs": [
        {
          "output_type": "display_data",
          "data": {
            "text/plain": [
              "<Figure size 432x288 with 1 Axes>"
            ],
            "image/png": "[encoded data removed]"
          },
          "metadata": {
            "needs_background": "light"
          }
        },
        {
          "output_type": "stream",
          "name": "stdout",
          "text": [
            "MAE: 42.820659722222224\n",
            "MSE: 4427.689815266927\n"
          ]
        }
      ]
    },
    {
      "cell_type": "code",
      "source": [
        "scaler = MinMaxScaler(feature_range=(0,1))\n",
        "scaled_data = scaler.fit_transform(train2['usage'].values.reshape(-1,1)) \n",
        "\n",
        "prediction_days = 90\n",
        "\n",
        "x_train2 = []\n",
        "y_train2 = []\n",
        "\n",
        "for x in range(prediction_days, len(scaled_data)):\n",
        "    x_train2.append(scaled_data[x-prediction_days:x, 0])\n",
        "    y_train2.append(scaled_data[x, 0])\n",
        "\n",
        "\n",
        "x_train2, y_train2 = np.array(x_train2), np.array(y_train2)\n",
        "x_train2 = np.reshape(x_train2, (x_train2.shape[0], x_train2.shape[1], 1))\n",
        "\n",
        "model = Sequential()\n",
        "\n",
        "model.add(LSTM(units =128, activation='relu', return_sequences=True, input_shape = (x_train2.shape[1],1)))\n",
        "model.add(Dropout(0.2))\n",
        "model.add(LSTM(units =128, activation='relu', return_sequences=True))\n",
        "model.add(Dropout(0.2))\n",
        "model.add(LSTM(units =128, activation='relu', return_sequences=False))\n",
        "model.add(Dropout(0.2))\n",
        "model.add(Dense(units=1))\n",
        "\n",
        "model.compile(optimizer='adam', loss='mean_squared_error')\n",
        "model.summary()\n",
        "\n",
        "history = model.fit(x_train2, y_train2, epochs = 25, batch_size=32, validation_split=0.1)\n",
        "\n",
        "\n",
        "model_inputs = test2['usage'].values\n",
        "model_inputs = model_inputs.reshape(-1,1)\n",
        "model_inputs = scaler.transform(model_inputs)\n",
        "\n",
        "\n",
        "x_test2 = np.array(model_inputs)\n",
        "x_test2 = np.reshape(x_test2, (x_test2.shape[0], x_test2.shape[1], 1))\n",
        "\n",
        "pred = model.predict(model_inputs)\n",
        "pred = scaler.inverse_transform(pred)\n",
        "scalerpred = MinMaxScaler(feature_range=(min(train2['usage'].values),max(train2['usage'].values)))\n",
        "scaled_pred = scalerpred.fit_transform(pred)"
      ],
      "metadata": {
        "colab": {
          "base_uri": "https://localhost:8080/"
        },
        "id": "M6fHw6Sa5dKg",
        "outputId": "c85de439-690b-4879-904d-2e266d774989"
      },
      "execution_count": 69,
      "outputs": [
        {
          "output_type": "stream",
          "name": "stdout",
          "text": [
            "Model: \"sequential_16\"\n",
            "_________________________________________________________________\n",
            " Layer (type)                Output Shape              Param #   \n",
            "=================================================================\n",
            " lstm_48 (LSTM)              (None, 90, 128)           66560     \n",
            "                                                                 \n",
            " dropout_48 (Dropout)        (None, 90, 128)           0         \n",
            "                                                                 \n",
            " lstm_49 (LSTM)              (None, 90, 128)           131584    \n",
            "                                                                 \n",
            " dropout_49 (Dropout)        (None, 90, 128)           0         \n",
            "                                                                 \n",
            " lstm_50 (LSTM)              (None, 128)               131584    \n",
            "                                                                 \n",
            " dropout_50 (Dropout)        (None, 128)               0         \n",
            "                                                                 \n",
            " dense_16 (Dense)            (None, 1)                 129       \n",
            "                                                                 \n",
            "=================================================================\n",
            "Total params: 329,857\n",
            "Trainable params: 329,857\n",
            "Non-trainable params: 0\n",
            "_________________________________________________________________\n",
            "Epoch 1/25\n",
            "32/32 [==============================] - 14s 333ms/step - loss: 0.1176 - val_loss: 0.0762\n",
            "Epoch 2/25\n",
            "32/32 [==============================] - 10s 317ms/step - loss: 0.0578 - val_loss: 0.0439\n",
            "Epoch 3/25\n",
            "32/32 [==============================] - 10s 317ms/step - loss: 0.0559 - val_loss: 0.0562\n",
            "Epoch 4/25\n",
            "32/32 [==============================] - 10s 317ms/step - loss: 0.0539 - val_loss: 0.0438\n",
            "Epoch 5/25\n",
            "32/32 [==============================] - 10s 320ms/step - loss: 0.0566 - val_loss: 0.0484\n",
            "Epoch 6/25\n",
            "32/32 [==============================] - 10s 319ms/step - loss: 0.0540 - val_loss: 0.0515\n",
            "Epoch 7/25\n",
            "32/32 [==============================] - 10s 321ms/step - loss: 0.0534 - val_loss: 0.0557\n",
            "Epoch 8/25\n",
            "32/32 [==============================] - 10s 320ms/step - loss: 0.0558 - val_loss: 0.0459\n",
            "Epoch 9/25\n",
            "32/32 [==============================] - 10s 319ms/step - loss: 0.0529 - val_loss: 0.0516\n",
            "Epoch 10/25\n",
            "32/32 [==============================] - 10s 319ms/step - loss: 0.0523 - val_loss: 0.0500\n",
            "Epoch 11/25\n",
            "32/32 [==============================] - 10s 319ms/step - loss: 0.0525 - val_loss: 0.0462\n",
            "Epoch 12/25\n",
            "32/32 [==============================] - 10s 321ms/step - loss: 0.0512 - val_loss: 0.0480\n",
            "Epoch 13/25\n",
            "32/32 [==============================] - 10s 322ms/step - loss: 0.0491 - val_loss: 0.0423\n",
            "Epoch 14/25\n",
            "32/32 [==============================] - 10s 320ms/step - loss: 0.0403 - val_loss: 0.0307\n",
            "Epoch 15/25\n",
            "32/32 [==============================] - 10s 318ms/step - loss: 0.0282 - val_loss: 0.0167\n",
            "Epoch 16/25\n",
            "32/32 [==============================] - 10s 321ms/step - loss: 0.0267 - val_loss: 0.0175\n",
            "Epoch 17/25\n",
            "32/32 [==============================] - 10s 320ms/step - loss: 0.0236 - val_loss: 0.0150\n",
            "Epoch 18/25\n",
            "32/32 [==============================] - 10s 319ms/step - loss: 0.0215 - val_loss: 0.0222\n",
            "Epoch 19/25\n",
            "32/32 [==============================] - 10s 321ms/step - loss: 0.0227 - val_loss: 0.0191\n",
            "Epoch 20/25\n",
            "32/32 [==============================] - 10s 321ms/step - loss: 0.0212 - val_loss: 0.0183\n",
            "Epoch 21/25\n",
            "32/32 [==============================] - 10s 322ms/step - loss: 0.0204 - val_loss: 0.0140\n",
            "Epoch 22/25\n",
            "32/32 [==============================] - 10s 319ms/step - loss: 0.0194 - val_loss: 0.0134\n",
            "Epoch 23/25\n",
            "32/32 [==============================] - 10s 320ms/step - loss: 0.0194 - val_loss: 0.0138\n",
            "Epoch 24/25\n",
            "32/32 [==============================] - 10s 318ms/step - loss: 0.0187 - val_loss: 0.0139\n",
            "Epoch 25/25\n",
            "32/32 [==============================] - 10s 321ms/step - loss: 0.0182 - val_loss: 0.0134\n"
          ]
        },
        {
          "output_type": "stream",
          "name": "stderr",
          "text": [
            "WARNING:tensorflow:Model was constructed with shape (None, 90, 1) for input KerasTensor(type_spec=TensorSpec(shape=(None, 90, 1), dtype=tf.float32, name='lstm_48_input'), name='lstm_48_input', description=\"created by layer 'lstm_48_input'\"), but it was called on an input with incompatible shape (None, 1, 1).\n"
          ]
        }
      ]
    },
    {
      "cell_type": "code",
      "source": [
        "plt.plot(scaled_pred,label='Prediciton')\n",
        "plt.plot(np.arange(0,90,1),test2.usage,label='Actual')\n",
        "plt.hlines(test2.total_capacity,0,90,color=\"red\",label='Total Capacity')\n",
        "plt.ylabel('Usage')\n",
        "plt.xlabel('Date')\n",
        "plt.title(\"Forecasting for Usage\")\n",
        "plt.legend(loc='upper left', fontsize=8)\n",
        "plt.show()\n",
        "\n",
        "print('MAE:', mean_absolute_error(test2.usage, scaled_pred))\n",
        "print('MSE:', mean_squared_error(test2.usage, scaled_pred))"
      ],
      "metadata": {
        "colab": {
          "base_uri": "https://localhost:8080/",
          "height": 329
        },
        "id": "wsTAgPA06CC1",
        "outputId": "bab7b10c-4032-4f05-b8b9-7ae3ca13ed94"
      },
      "execution_count": 70,
      "outputs": [
        {
          "output_type": "display_data",
          "data": {
            "text/plain": [
              "<Figure size 432x288 with 1 Axes>"
            ],
            "image/png": "[encoded data removed]"
          },
          "metadata": {
            "needs_background": "light"
          }
        },
        {
          "output_type": "stream",
          "name": "stdout",
          "text": [
            "MAE: 69.15288899739583\n",
            "MSE: 5552.1725845687915\n"
          ]
        }
      ]
    },
    {
      "cell_type": "code",
      "source": [
        "scaler = MinMaxScaler(feature_range=(0,1))\n",
        "scaled_data = scaler.fit_transform(train3['usage'].values.reshape(-1,1)) \n",
        "\n",
        "prediction_days = 90\n",
        "\n",
        "x_train3 = []\n",
        "y_train3 = []\n",
        "\n",
        "for x in range(prediction_days, len(scaled_data)):\n",
        "    x_train3.append(scaled_data[x-prediction_days:x, 0])\n",
        "    y_train3.append(scaled_data[x, 0])\n",
        "\n",
        "\n",
        "x_train3, y_train3 = np.array(x_train3), np.array(y_train3)\n",
        "x_train3 = np.reshape(x_train3, (x_train3.shape[0], x_train3.shape[1], 1))\n",
        "\n",
        "model = Sequential()\n",
        "\n",
        "model.add(LSTM(units =128, activation='relu', return_sequences=True, input_shape = (x_train3.shape[1],1)))\n",
        "model.add(Dropout(0.2))\n",
        "model.add(LSTM(units =128, activation='relu', return_sequences=True))\n",
        "model.add(Dropout(0.2))\n",
        "model.add(LSTM(units =128, activation='relu', return_sequences=False))\n",
        "model.add(Dropout(0.2))\n",
        "model.add(Dense(units=1))\n",
        "\n",
        "model.compile(optimizer='adam', loss='mean_squared_error')\n",
        "model.summary()\n",
        "\n",
        "history = model.fit(x_train3, y_train3, epochs = 25, batch_size=32, validation_split=0.1)\n",
        "\n",
        "\n",
        "model_inputs = test3['usage'].values\n",
        "model_inputs = model_inputs.reshape(-1,1)\n",
        "model_inputs = scaler.transform(model_inputs)\n",
        "\n",
        "\n",
        "x_test3 = np.array(model_inputs)\n",
        "x_test3 = np.reshape(x_test3, (x_test3.shape[0], x_test3.shape[1], 1))\n",
        "\n",
        "pred = model.predict(model_inputs)\n",
        "pred = scaler.inverse_transform(pred)\n",
        "scalerpred = MinMaxScaler(feature_range=(min(train3['usage'].values),max(train3['usage'].values)))\n",
        "scaled_pred = scalerpred.fit_transform(pred)"
      ],
      "metadata": {
        "colab": {
          "base_uri": "https://localhost:8080/"
        },
        "id": "3rZJ10-r6sPy",
        "outputId": "db1efc9b-9c8f-4572-85bd-25937da95570"
      },
      "execution_count": 71,
      "outputs": [
        {
          "output_type": "stream",
          "name": "stdout",
          "text": [
            "Model: \"sequential_17\"\n",
            "_________________________________________________________________\n",
            " Layer (type)                Output Shape              Param #   \n",
            "=================================================================\n",
            " lstm_51 (LSTM)              (None, 90, 128)           66560     \n",
            "                                                                 \n",
            " dropout_51 (Dropout)        (None, 90, 128)           0         \n",
            "                                                                 \n",
            " lstm_52 (LSTM)              (None, 90, 128)           131584    \n",
            "                                                                 \n",
            " dropout_52 (Dropout)        (None, 90, 128)           0         \n",
            "                                                                 \n",
            " lstm_53 (LSTM)              (None, 128)               131584    \n",
            "                                                                 \n",
            " dropout_53 (Dropout)        (None, 128)               0         \n",
            "                                                                 \n",
            " dense_17 (Dense)            (None, 1)                 129       \n",
            "                                                                 \n",
            "=================================================================\n",
            "Total params: 329,857\n",
            "Trainable params: 329,857\n",
            "Non-trainable params: 0\n",
            "_________________________________________________________________\n",
            "Epoch 1/25\n",
            "32/32 [==============================] - 14s 334ms/step - loss: 0.1273 - val_loss: 0.0634\n",
            "Epoch 2/25\n",
            "32/32 [==============================] - 10s 318ms/step - loss: 0.0651 - val_loss: 0.0654\n",
            "Epoch 3/25\n",
            "32/32 [==============================] - 10s 319ms/step - loss: 0.0615 - val_loss: 0.0625\n",
            "Epoch 4/25\n",
            "32/32 [==============================] - 10s 318ms/step - loss: 0.0614 - val_loss: 0.0607\n",
            "Epoch 5/25\n",
            "32/32 [==============================] - 10s 321ms/step - loss: 0.0598 - val_loss: 0.0633\n",
            "Epoch 6/25\n",
            "32/32 [==============================] - 10s 318ms/step - loss: 0.0592 - val_loss: 0.0641\n",
            "Epoch 7/25\n",
            "32/32 [==============================] - 10s 321ms/step - loss: 0.0553 - val_loss: 0.0568\n",
            "Epoch 8/25\n",
            "32/32 [==============================] - 10s 320ms/step - loss: 0.0578 - val_loss: 0.0599\n",
            "Epoch 9/25\n",
            "32/32 [==============================] - 10s 323ms/step - loss: 0.0530 - val_loss: 0.0562\n",
            "Epoch 10/25\n",
            "32/32 [==============================] - 10s 317ms/step - loss: 0.0494 - val_loss: 0.0556\n",
            "Epoch 11/25\n",
            "32/32 [==============================] - 10s 315ms/step - loss: 0.0474 - val_loss: 0.0583\n",
            "Epoch 12/25\n",
            "32/32 [==============================] - 10s 318ms/step - loss: 0.0476 - val_loss: 0.0512\n",
            "Epoch 13/25\n",
            "32/32 [==============================] - 10s 318ms/step - loss: 0.0432 - val_loss: 0.0490\n",
            "Epoch 14/25\n",
            "32/32 [==============================] - 10s 323ms/step - loss: 0.0356 - val_loss: 0.0258\n",
            "Epoch 15/25\n",
            "32/32 [==============================] - 10s 320ms/step - loss: 0.0283 - val_loss: 0.0200\n",
            "Epoch 16/25\n",
            "32/32 [==============================] - 10s 317ms/step - loss: 0.0203 - val_loss: 0.0163\n",
            "Epoch 17/25\n",
            "32/32 [==============================] - 10s 318ms/step - loss: 0.0176 - val_loss: 0.0175\n",
            "Epoch 18/25\n",
            "32/32 [==============================] - 10s 318ms/step - loss: 0.0175 - val_loss: 0.0145\n",
            "Epoch 19/25\n",
            "32/32 [==============================] - 10s 319ms/step - loss: 0.0160 - val_loss: 0.0115\n",
            "Epoch 20/25\n",
            "32/32 [==============================] - 10s 319ms/step - loss: 0.0151 - val_loss: 0.0114\n",
            "Epoch 21/25\n",
            "32/32 [==============================] - 10s 319ms/step - loss: 0.0127 - val_loss: 0.0091\n",
            "Epoch 22/25\n",
            "32/32 [==============================] - 10s 317ms/step - loss: 0.0129 - val_loss: 0.0147\n",
            "Epoch 23/25\n",
            "32/32 [==============================] - 10s 318ms/step - loss: 0.0130 - val_loss: 0.0104\n",
            "Epoch 24/25\n",
            "32/32 [==============================] - 10s 320ms/step - loss: 0.0114 - val_loss: 0.0059\n",
            "Epoch 25/25\n",
            "32/32 [==============================] - 10s 317ms/step - loss: 0.0115 - val_loss: 0.0064\n"
          ]
        },
        {
          "output_type": "stream",
          "name": "stderr",
          "text": [
            "WARNING:tensorflow:Model was constructed with shape (None, 90, 1) for input KerasTensor(type_spec=TensorSpec(shape=(None, 90, 1), dtype=tf.float32, name='lstm_51_input'), name='lstm_51_input', description=\"created by layer 'lstm_51_input'\"), but it was called on an input with incompatible shape (None, 1, 1).\n"
          ]
        }
      ]
    },
    {
      "cell_type": "code",
      "source": [
        "plt.plot(scaled_pred,label='Prediciton')\n",
        "plt.plot(np.arange(0,90,1),test3.usage,label='Actual')\n",
        "plt.hlines(test3.total_capacity,0,90,color=\"red\",label='Total Capacity')\n",
        "plt.ylabel('Usage')\n",
        "plt.xlabel('Date')\n",
        "plt.title(\"Forecasting for Usage\")\n",
        "plt.legend(loc='upper left', fontsize=8)\n",
        "plt.show()\n",
        "\n",
        "print('MAE:', mean_absolute_error(test3.usage, scaled_pred))\n",
        "print('MSE:', mean_squared_error(test3.usage, scaled_pred))"
      ],
      "metadata": {
        "colab": {
          "base_uri": "https://localhost:8080/",
          "height": 329
        },
        "id": "HF7jR78K7lMm",
        "outputId": "be17f8f6-8536-417f-d2e4-24ecf62e38e6"
      },
      "execution_count": 72,
      "outputs": [
        {
          "output_type": "display_data",
          "data": {
            "text/plain": [
              "<Figure size 432x288 with 1 Axes>"
            ],
            "image/png": "[encoded data removed]"
          },
          "metadata": {
            "needs_background": "light"
          }
        },
        {
          "output_type": "stream",
          "name": "stdout",
          "text": [
            "MAE: 210.71343858506944\n",
            "MSE: 49759.87717253102\n"
          ]
        }
      ]
    },
    {
      "cell_type": "code",
      "source": [
        "scaler = MinMaxScaler(feature_range=(0,1))\n",
        "scaled_data = scaler.fit_transform(train4['usage'].values.reshape(-1,1)) \n",
        "\n",
        "prediction_days = 90\n",
        "\n",
        "x_train4 = []\n",
        "y_train4 = []\n",
        "\n",
        "for x in range(prediction_days, len(scaled_data)):\n",
        "    x_train4.append(scaled_data[x-prediction_days:x, 0])\n",
        "    y_train4.append(scaled_data[x, 0])\n",
        "\n",
        "\n",
        "x_train4, y_train4 = np.array(x_train4), np.array(y_train4)\n",
        "x_train4 = np.reshape(x_train4, (x_train4.shape[0], x_train4.shape[1], 1))\n",
        "\n",
        "model = Sequential()\n",
        "\n",
        "model.add(LSTM(units =128, activation='relu', return_sequences=True, input_shape = (x_train4.shape[1],1)))\n",
        "model.add(Dropout(0.2))\n",
        "model.add(LSTM(units =128, activation='relu', return_sequences=True))\n",
        "model.add(Dropout(0.2))\n",
        "model.add(LSTM(units =128, activation='relu', return_sequences=False))\n",
        "model.add(Dropout(0.2))\n",
        "model.add(Dense(units=1))\n",
        "\n",
        "model.compile(optimizer='adam', loss='mean_squared_error')\n",
        "model.summary()\n",
        "\n",
        "history = model.fit(x_train4, y_train4, epochs = 25, batch_size=32, validation_split=0.1)\n",
        "\n",
        "\n",
        "model_inputs = test4['usage'].values\n",
        "model_inputs = model_inputs.reshape(-1,1)\n",
        "model_inputs = scaler.transform(model_inputs)\n",
        "\n",
        "\n",
        "x_test4 = np.array(model_inputs)\n",
        "x_test4 = np.reshape(x_test4, (x_test4.shape[0], x_test4.shape[1], 1))\n",
        "\n",
        "pred = model.predict(model_inputs)\n",
        "pred = scaler.inverse_transform(pred)\n",
        "scalerpred = MinMaxScaler(feature_range=(min(train4['usage'].values),max(train4['usage'].values)))\n",
        "scaled_pred = scalerpred.fit_transform(pred)"
      ],
      "metadata": {
        "colab": {
          "base_uri": "https://localhost:8080/"
        },
        "id": "5TUFiTWL8Xbs",
        "outputId": "d400e779-d6bf-48fb-b5e1-4e57eacf4d59"
      },
      "execution_count": 79,
      "outputs": [
        {
          "output_type": "stream",
          "name": "stdout",
          "text": [
            "Model: \"sequential_20\"\n",
            "_________________________________________________________________\n",
            " Layer (type)                Output Shape              Param #   \n",
            "=================================================================\n",
            " lstm_60 (LSTM)              (None, 90, 128)           66560     \n",
            "                                                                 \n",
            " dropout_60 (Dropout)        (None, 90, 128)           0         \n",
            "                                                                 \n",
            " lstm_61 (LSTM)              (None, 90, 128)           131584    \n",
            "                                                                 \n",
            " dropout_61 (Dropout)        (None, 90, 128)           0         \n",
            "                                                                 \n",
            " lstm_62 (LSTM)              (None, 128)               131584    \n",
            "                                                                 \n",
            " dropout_62 (Dropout)        (None, 128)               0         \n",
            "                                                                 \n",
            " dense_20 (Dense)            (None, 1)                 129       \n",
            "                                                                 \n",
            "=================================================================\n",
            "Total params: 329,857\n",
            "Trainable params: 329,857\n",
            "Non-trainable params: 0\n",
            "_________________________________________________________________\n",
            "Epoch 1/25\n",
            "32/32 [==============================] - 14s 337ms/step - loss: 0.2124 - val_loss: 0.0670\n",
            "Epoch 2/25\n",
            "32/32 [==============================] - 10s 320ms/step - loss: 0.0765 - val_loss: 0.0688\n",
            "Epoch 3/25\n",
            "32/32 [==============================] - 10s 318ms/step - loss: 0.0680 - val_loss: 0.0596\n",
            "Epoch 4/25\n",
            "32/32 [==============================] - 10s 319ms/step - loss: 0.0665 - val_loss: 0.0651\n",
            "Epoch 5/25\n",
            "32/32 [==============================] - 10s 320ms/step - loss: 0.0635 - val_loss: 0.0553\n",
            "Epoch 6/25\n",
            "32/32 [==============================] - 10s 319ms/step - loss: 0.0607 - val_loss: 0.0573\n",
            "Epoch 7/25\n",
            "32/32 [==============================] - 10s 322ms/step - loss: 0.0600 - val_loss: 0.0530\n",
            "Epoch 8/25\n",
            "32/32 [==============================] - 10s 321ms/step - loss: 0.0553 - val_loss: 0.0506\n",
            "Epoch 9/25\n",
            "32/32 [==============================] - 10s 319ms/step - loss: 0.0534 - val_loss: 0.0498\n",
            "Epoch 10/25\n",
            "32/32 [==============================] - 10s 317ms/step - loss: 0.0528 - val_loss: 0.0522\n",
            "Epoch 11/25\n",
            "32/32 [==============================] - 10s 318ms/step - loss: 0.0502 - val_loss: 0.0469\n",
            "Epoch 12/25\n",
            "32/32 [==============================] - 10s 317ms/step - loss: 0.0487 - val_loss: 0.0484\n",
            "Epoch 13/25\n",
            "32/32 [==============================] - 10s 320ms/step - loss: 0.0479 - val_loss: 0.0461\n",
            "Epoch 14/25\n",
            "32/32 [==============================] - 10s 321ms/step - loss: 0.0472 - val_loss: 0.0454\n",
            "Epoch 15/25\n",
            "32/32 [==============================] - 10s 322ms/step - loss: 0.0469 - val_loss: 0.0463\n",
            "Epoch 16/25\n",
            "32/32 [==============================] - 10s 321ms/step - loss: 0.0426 - val_loss: 0.0427\n",
            "Epoch 17/25\n",
            "32/32 [==============================] - 10s 321ms/step - loss: 0.0402 - val_loss: 0.0342\n",
            "Epoch 18/25\n",
            "32/32 [==============================] - 10s 322ms/step - loss: 0.0324 - val_loss: 0.0214\n",
            "Epoch 19/25\n",
            "32/32 [==============================] - 10s 320ms/step - loss: 0.0246 - val_loss: 0.0211\n",
            "Epoch 20/25\n",
            "32/32 [==============================] - 10s 320ms/step - loss: 0.0228 - val_loss: 0.0141\n",
            "Epoch 21/25\n",
            "32/32 [==============================] - 10s 320ms/step - loss: 0.0205 - val_loss: 0.0208\n",
            "Epoch 22/25\n",
            "32/32 [==============================] - 10s 319ms/step - loss: 0.0202 - val_loss: 0.0116\n",
            "Epoch 23/25\n",
            "32/32 [==============================] - 10s 322ms/step - loss: 0.0177 - val_loss: 0.0119\n",
            "Epoch 24/25\n",
            "32/32 [==============================] - 10s 320ms/step - loss: 0.0161 - val_loss: 0.0111\n",
            "Epoch 25/25\n",
            "32/32 [==============================] - 10s 321ms/step - loss: 0.0145 - val_loss: 0.0093\n"
          ]
        },
        {
          "output_type": "stream",
          "name": "stderr",
          "text": [
            "WARNING:tensorflow:Model was constructed with shape (None, 90, 1) for input KerasTensor(type_spec=TensorSpec(shape=(None, 90, 1), dtype=tf.float32, name='lstm_60_input'), name='lstm_60_input', description=\"created by layer 'lstm_60_input'\"), but it was called on an input with incompatible shape (None, 1, 1).\n"
          ]
        }
      ]
    },
    {
      "cell_type": "code",
      "source": [
        "plt.plot(scaled_pred,label='Prediciton')\n",
        "plt.plot(np.arange(0,90,1),test4.usage,label='Actual')\n",
        "plt.hlines(test4.total_capacity,0,90,color=\"red\",label='Total Capacity')\n",
        "plt.ylabel('Usage')\n",
        "plt.xlabel('Date')\n",
        "plt.title(\"Forecasting for Usage\")\n",
        "plt.legend(loc='upper left', fontsize=8)\n",
        "plt.show()\n",
        "\n",
        "print('MAE:', mean_absolute_error(test4.usage, scaled_pred))\n",
        "print('MSE:', mean_squared_error(test4.usage, scaled_pred))"
      ],
      "metadata": {
        "colab": {
          "base_uri": "https://localhost:8080/",
          "height": 329
        },
        "id": "ECdHrLg-8mcO",
        "outputId": "a1e1ced5-b565-4fc8-8917-5bd9e7c8866b"
      },
      "execution_count": 80,
      "outputs": [
        {
          "output_type": "display_data",
          "data": {
            "text/plain": [
              "<Figure size 432x288 with 1 Axes>"
            ],
            "image/png": "[encoded data removed]"
          },
          "metadata": {
            "needs_background": "light"
          }
        },
        {
          "output_type": "stream",
          "name": "stdout",
          "text": [
            "MAE: 341.1771267361111\n",
            "MSE: 141614.69025421143\n"
          ]
        }
      ]
    },
    {
      "cell_type": "code",
      "source": [
        "scaler = MinMaxScaler(feature_range=(0,1))\n",
        "scaled_data = scaler.fit_transform(train5['usage'].values.reshape(-1,1)) \n",
        "\n",
        "prediction_days = 90\n",
        "\n",
        "x_train5 = []\n",
        "y_train5 = []\n",
        "\n",
        "for x in range(prediction_days, len(scaled_data)):\n",
        "    x_train5.append(scaled_data[x-prediction_days:x, 0])\n",
        "    y_train5.append(scaled_data[x, 0])\n",
        "\n",
        "\n",
        "x_train5, y_train5 = np.array(x_train5), np.array(y_train5)\n",
        "x_train5 = np.reshape(x_train5, (x_train5.shape[0], x_train5.shape[1], 1))\n",
        "\n",
        "model = Sequential()\n",
        "\n",
        "model.add(LSTM(units =128, activation='relu', return_sequences=True, input_shape = (x_train5.shape[1],1)))\n",
        "model.add(Dropout(0.2))\n",
        "model.add(LSTM(units =128, activation='relu', return_sequences=True))\n",
        "model.add(Dropout(0.2))\n",
        "model.add(LSTM(units =128, activation='relu', return_sequences=False))\n",
        "model.add(Dropout(0.2))\n",
        "model.add(Dense(units=1))\n",
        "\n",
        "model.compile(optimizer='adam', loss='mean_squared_error')\n",
        "model.summary()\n",
        "\n",
        "history = model.fit(x_train5, y_train5, epochs = 25, batch_size=32, validation_split=0.1)\n",
        "\n",
        "\n",
        "model_inputs = test5['usage'].values\n",
        "model_inputs = model_inputs.reshape(-1,1)\n",
        "model_inputs = scaler.transform(model_inputs)\n",
        "\n",
        "\n",
        "x_test5 = np.array(model_inputs)\n",
        "x_test5 = np.reshape(x_test5, (x_test5.shape[0], x_test5.shape[1], 1))\n",
        "\n",
        "pred = model.predict(model_inputs)\n",
        "pred = scaler.inverse_transform(pred)\n",
        "scalerpred = MinMaxScaler(feature_range=(min(train5['usage'].values),max(train5['usage'].values)))\n",
        "scaled_pred = scalerpred.fit_transform(pred)"
      ],
      "metadata": {
        "colab": {
          "base_uri": "https://localhost:8080/"
        },
        "id": "l9Yx35Zq9FM3",
        "outputId": "514e802e-eb74-45fb-eac2-e3a41eae764b"
      },
      "execution_count": 81,
      "outputs": [
        {
          "output_type": "stream",
          "name": "stdout",
          "text": [
            "Model: \"sequential_21\"\n",
            "_________________________________________________________________\n",
            " Layer (type)                Output Shape              Param #   \n",
            "=================================================================\n",
            " lstm_63 (LSTM)              (None, 90, 128)           66560     \n",
            "                                                                 \n",
            " dropout_63 (Dropout)        (None, 90, 128)           0         \n",
            "                                                                 \n",
            " lstm_64 (LSTM)              (None, 90, 128)           131584    \n",
            "                                                                 \n",
            " dropout_64 (Dropout)        (None, 90, 128)           0         \n",
            "                                                                 \n",
            " lstm_65 (LSTM)              (None, 128)               131584    \n",
            "                                                                 \n",
            " dropout_65 (Dropout)        (None, 128)               0         \n",
            "                                                                 \n",
            " dense_21 (Dense)            (None, 1)                 129       \n",
            "                                                                 \n",
            "=================================================================\n",
            "Total params: 329,857\n",
            "Trainable params: 329,857\n",
            "Non-trainable params: 0\n",
            "_________________________________________________________________\n",
            "Epoch 1/25\n",
            "32/32 [==============================] - 15s 337ms/step - loss: 0.0409 - val_loss: 0.0412\n",
            "Epoch 2/25\n",
            "32/32 [==============================] - 10s 322ms/step - loss: 0.0302 - val_loss: 0.0407\n",
            "Epoch 3/25\n",
            "32/32 [==============================] - 10s 322ms/step - loss: 0.0298 - val_loss: 0.0407\n",
            "Epoch 4/25\n",
            "32/32 [==============================] - 10s 322ms/step - loss: 0.0297 - val_loss: 0.0398\n",
            "Epoch 5/25\n",
            "32/32 [==============================] - 10s 322ms/step - loss: 0.0293 - val_loss: 0.0397\n",
            "Epoch 6/25\n",
            "32/32 [==============================] - 10s 322ms/step - loss: 0.0294 - val_loss: 0.0399\n",
            "Epoch 7/25\n",
            "32/32 [==============================] - 10s 320ms/step - loss: 0.0285 - val_loss: 0.0374\n",
            "Epoch 8/25\n",
            "32/32 [==============================] - 10s 321ms/step - loss: 0.0257 - val_loss: 0.0245\n",
            "Epoch 9/25\n",
            "32/32 [==============================] - 10s 322ms/step - loss: 0.0166 - val_loss: 0.0145\n",
            "Epoch 10/25\n",
            "32/32 [==============================] - 10s 324ms/step - loss: 0.0108 - val_loss: 0.0140\n",
            "Epoch 11/25\n",
            "32/32 [==============================] - 10s 323ms/step - loss: 0.0101 - val_loss: 0.0105\n",
            "Epoch 12/25\n",
            "32/32 [==============================] - 10s 323ms/step - loss: 0.0088 - val_loss: 0.0111\n",
            "Epoch 13/25\n",
            "32/32 [==============================] - 10s 326ms/step - loss: 0.0086 - val_loss: 0.0081\n",
            "Epoch 14/25\n",
            "32/32 [==============================] - 10s 322ms/step - loss: 0.0079 - val_loss: 0.0071\n",
            "Epoch 15/25\n",
            "32/32 [==============================] - 10s 321ms/step - loss: 0.0070 - val_loss: 0.0062\n",
            "Epoch 16/25\n",
            "32/32 [==============================] - 10s 323ms/step - loss: 0.0073 - val_loss: 0.0087\n",
            "Epoch 17/25\n",
            "32/32 [==============================] - 10s 321ms/step - loss: 0.0067 - val_loss: 0.0072\n",
            "Epoch 18/25\n",
            "32/32 [==============================] - 10s 321ms/step - loss: 0.0068 - val_loss: 0.0067\n",
            "Epoch 19/25\n",
            "32/32 [==============================] - 10s 322ms/step - loss: 0.0077 - val_loss: 0.0070\n",
            "Epoch 20/25\n",
            "32/32 [==============================] - 10s 322ms/step - loss: 0.0066 - val_loss: 0.0080\n",
            "Epoch 21/25\n",
            "32/32 [==============================] - 10s 325ms/step - loss: 0.0059 - val_loss: 0.0078\n",
            "Epoch 22/25\n",
            "32/32 [==============================] - 10s 324ms/step - loss: 0.0065 - val_loss: 0.0057\n",
            "Epoch 23/25\n",
            "32/32 [==============================] - 10s 322ms/step - loss: 0.0061 - val_loss: 0.0063\n",
            "Epoch 24/25\n",
            "32/32 [==============================] - 10s 326ms/step - loss: 0.0058 - val_loss: 0.0049\n",
            "Epoch 25/25\n",
            "32/32 [==============================] - 10s 321ms/step - loss: 0.0058 - val_loss: 0.0063\n"
          ]
        },
        {
          "output_type": "stream",
          "name": "stderr",
          "text": [
            "WARNING:tensorflow:Model was constructed with shape (None, 90, 1) for input KerasTensor(type_spec=TensorSpec(shape=(None, 90, 1), dtype=tf.float32, name='lstm_63_input'), name='lstm_63_input', description=\"created by layer 'lstm_63_input'\"), but it was called on an input with incompatible shape (None, 1, 1).\n"
          ]
        }
      ]
    },
    {
      "cell_type": "code",
      "source": [
        "plt.plot(scaled_pred,label='Prediciton')\n",
        "plt.plot(np.arange(0,90,1),test5.usage,label='Actual')\n",
        "plt.hlines(test5.total_capacity,0,90,color=\"red\",label='Total Capacity')\n",
        "plt.ylabel('Usage')\n",
        "plt.xlabel('Date')\n",
        "plt.title(\"Forecasting for Usage\")\n",
        "plt.legend(loc='upper left', fontsize=8)\n",
        "plt.show()\n",
        "\n",
        "print('MAE:', mean_absolute_error(test5.usage, scaled_pred))\n",
        "print('MSE:', mean_squared_error(test5.usage, scaled_pred))"
      ],
      "metadata": {
        "colab": {
          "base_uri": "https://localhost:8080/",
          "height": 329
        },
        "id": "mtheny0V9aMl",
        "outputId": "3f2bf0c5-32df-45fb-b985-abd1628d0c6c"
      },
      "execution_count": 82,
      "outputs": [
        {
          "output_type": "display_data",
          "data": {
            "text/plain": [
              "<Figure size 432x288 with 1 Axes>"
            ],
            "image/png": "[encoded data removed]"
          },
          "metadata": {
            "needs_background": "light"
          }
        },
        {
          "output_type": "stream",
          "name": "stdout",
          "text": [
            "MAE: 29.388221571180555\n",
            "MSE: 1667.948644827058\n"
          ]
        }
      ]
    },
    {
      "cell_type": "code",
      "source": [
        "scaler = MinMaxScaler(feature_range=(0,1))\n",
        "scaled_data = scaler.fit_transform(train6['usage'].values.reshape(-1,1)) \n",
        "\n",
        "prediction_days = 90\n",
        "\n",
        "x_train6 = []\n",
        "y_train6 = []\n",
        "\n",
        "for x in range(prediction_days, len(scaled_data)):\n",
        "    x_train6.append(scaled_data[x-prediction_days:x, 0])\n",
        "    y_train6.append(scaled_data[x, 0])\n",
        "\n",
        "\n",
        "x_train6, y_train6 = np.array(x_train6), np.array(y_train6)\n",
        "x_train6 = np.reshape(x_train6, (x_train6.shape[0], x_train6.shape[1], 1))\n",
        "\n",
        "model = Sequential()\n",
        "\n",
        "model.add(LSTM(units =128, activation='relu', return_sequences=True, input_shape = (x_train6.shape[1],1)))\n",
        "model.add(Dropout(0.2))\n",
        "model.add(LSTM(units =128, activation='relu', return_sequences=True))\n",
        "model.add(Dropout(0.2))\n",
        "model.add(LSTM(units =128, activation='relu', return_sequences=False))\n",
        "model.add(Dropout(0.2))\n",
        "model.add(Dense(units=1))\n",
        "\n",
        "model.compile(optimizer='adam', loss='mean_squared_error')\n",
        "model.summary()\n",
        "\n",
        "history = model.fit(x_train6, y_train6, epochs = 25, batch_size=32, validation_split=0.1)\n",
        "\n",
        "\n",
        "model_inputs = test6['usage'].values\n",
        "model_inputs = model_inputs.reshape(-1,1)\n",
        "model_inputs = scaler.transform(model_inputs)\n",
        "\n",
        "\n",
        "x_test6 = np.array(model_inputs)\n",
        "x_test6 = np.reshape(x_test6, (x_test6.shape[0], x_test6.shape[1], 1))\n",
        "\n",
        "pred = model.predict(model_inputs)\n",
        "pred = scaler.inverse_transform(pred)\n",
        "scalerpred = MinMaxScaler(feature_range=(min(train6['usage'].values),max(train6['usage'].values)))\n",
        "scaled_pred = scalerpred.fit_transform(pred)"
      ],
      "metadata": {
        "colab": {
          "base_uri": "https://localhost:8080/"
        },
        "id": "xsmD9K799ngQ",
        "outputId": "874cc1f1-12dc-4996-adf2-e6d635632620"
      },
      "execution_count": 83,
      "outputs": [
        {
          "output_type": "stream",
          "name": "stdout",
          "text": [
            "Model: \"sequential_22\"\n",
            "_________________________________________________________________\n",
            " Layer (type)                Output Shape              Param #   \n",
            "=================================================================\n",
            " lstm_66 (LSTM)              (None, 90, 128)           66560     \n",
            "                                                                 \n",
            " dropout_66 (Dropout)        (None, 90, 128)           0         \n",
            "                                                                 \n",
            " lstm_67 (LSTM)              (None, 90, 128)           131584    \n",
            "                                                                 \n",
            " dropout_67 (Dropout)        (None, 90, 128)           0         \n",
            "                                                                 \n",
            " lstm_68 (LSTM)              (None, 128)               131584    \n",
            "                                                                 \n",
            " dropout_68 (Dropout)        (None, 128)               0         \n",
            "                                                                 \n",
            " dense_22 (Dense)            (None, 1)                 129       \n",
            "                                                                 \n",
            "=================================================================\n",
            "Total params: 329,857\n",
            "Trainable params: 329,857\n",
            "Non-trainable params: 0\n",
            "_________________________________________________________________\n",
            "Epoch 1/25\n",
            "32/32 [==============================] - 14s 335ms/step - loss: 0.0555 - val_loss: 0.0136\n",
            "Epoch 2/25\n",
            "32/32 [==============================] - 10s 320ms/step - loss: 0.0323 - val_loss: 0.0134\n",
            "Epoch 3/25\n",
            "32/32 [==============================] - 10s 320ms/step - loss: 0.0338 - val_loss: 0.0121\n",
            "Epoch 4/25\n",
            "32/32 [==============================] - 10s 320ms/step - loss: 0.0324 - val_loss: 0.0121\n",
            "Epoch 5/25\n",
            "32/32 [==============================] - 10s 320ms/step - loss: 0.0318 - val_loss: 0.0122\n",
            "Epoch 6/25\n",
            "32/32 [==============================] - 10s 325ms/step - loss: 0.0318 - val_loss: 0.0138\n",
            "Epoch 7/25\n",
            "32/32 [==============================] - 10s 326ms/step - loss: 0.0342 - val_loss: 0.0151\n",
            "Epoch 8/25\n",
            "32/32 [==============================] - 10s 321ms/step - loss: 0.0334 - val_loss: 0.0134\n",
            "Epoch 9/25\n",
            "32/32 [==============================] - 10s 322ms/step - loss: 0.0314 - val_loss: 0.0131\n",
            "Epoch 10/25\n",
            "32/32 [==============================] - 10s 322ms/step - loss: 0.0321 - val_loss: 0.0122\n",
            "Epoch 11/25\n",
            "32/32 [==============================] - 10s 321ms/step - loss: 0.0325 - val_loss: 0.0129\n",
            "Epoch 12/25\n",
            "32/32 [==============================] - 10s 322ms/step - loss: 0.0276 - val_loss: 0.0071\n",
            "Epoch 13/25\n",
            "32/32 [==============================] - 10s 324ms/step - loss: 0.0203 - val_loss: 0.0060\n",
            "Epoch 14/25\n",
            "32/32 [==============================] - 10s 324ms/step - loss: 0.0170 - val_loss: 0.0050\n",
            "Epoch 15/25\n",
            "32/32 [==============================] - 10s 324ms/step - loss: 0.0160 - val_loss: 0.0050\n",
            "Epoch 16/25\n",
            "32/32 [==============================] - 10s 320ms/step - loss: 0.0148 - val_loss: 0.0047\n",
            "Epoch 17/25\n",
            "32/32 [==============================] - 10s 321ms/step - loss: 0.0147 - val_loss: 0.0046\n",
            "Epoch 18/25\n",
            "32/32 [==============================] - 10s 324ms/step - loss: 0.0128 - val_loss: 0.0078\n",
            "Epoch 19/25\n",
            "32/32 [==============================] - 10s 320ms/step - loss: 0.0130 - val_loss: 0.0048\n",
            "Epoch 20/25\n",
            "32/32 [==============================] - 10s 318ms/step - loss: 0.0124 - val_loss: 0.0046\n",
            "Epoch 21/25\n",
            "32/32 [==============================] - 10s 321ms/step - loss: 0.0111 - val_loss: 0.0041\n",
            "Epoch 22/25\n",
            "32/32 [==============================] - 10s 320ms/step - loss: 0.0110 - val_loss: 0.0036\n",
            "Epoch 23/25\n",
            "32/32 [==============================] - 10s 320ms/step - loss: 0.0104 - val_loss: 0.0046\n",
            "Epoch 24/25\n",
            "32/32 [==============================] - 10s 321ms/step - loss: 0.0093 - val_loss: 0.0041\n",
            "Epoch 25/25\n",
            "32/32 [==============================] - 10s 321ms/step - loss: 0.0096 - val_loss: 0.0045\n"
          ]
        },
        {
          "output_type": "stream",
          "name": "stderr",
          "text": [
            "WARNING:tensorflow:Model was constructed with shape (None, 90, 1) for input KerasTensor(type_spec=TensorSpec(shape=(None, 90, 1), dtype=tf.float32, name='lstm_66_input'), name='lstm_66_input', description=\"created by layer 'lstm_66_input'\"), but it was called on an input with incompatible shape (None, 1, 1).\n"
          ]
        }
      ]
    },
    {
      "cell_type": "code",
      "source": [
        "plt.plot(scaled_pred,label='Prediciton')\n",
        "plt.plot(np.arange(0,90,1),test6.usage,label='Actual')\n",
        "plt.hlines(test6.total_capacity,0,90,color=\"red\",label='Total Capacity')\n",
        "plt.ylabel('Usage')\n",
        "plt.xlabel('Date')\n",
        "plt.title(\"Forecasting for Usage\")\n",
        "plt.legend(loc='upper left', fontsize=8)\n",
        "plt.show()\n",
        "\n",
        "print('MAE:', mean_absolute_error(test6.usage, scaled_pred))\n",
        "print('MSE:', mean_squared_error(test6.usage, scaled_pred))"
      ],
      "metadata": {
        "colab": {
          "base_uri": "https://localhost:8080/",
          "height": 329
        },
        "id": "8SERcGPP-v8W",
        "outputId": "e5effa8c-feb1-41e6-de2b-5f484599257b"
      },
      "execution_count": 84,
      "outputs": [
        {
          "output_type": "display_data",
          "data": {
            "text/plain": [
              "<Figure size 432x288 with 1 Axes>"
            ],
            "image/png": "[encoded data removed]"
          },
          "metadata": {
            "needs_background": "light"
          }
        },
        {
          "output_type": "stream",
          "name": "stdout",
          "text": [
            "MAE: 25.958376736111113\n",
            "MSE: 1789.74068997701\n"
          ]
        }
      ]
    },
    {
      "cell_type": "code",
      "source": [
        "scaler = MinMaxScaler(feature_range=(0,1))\n",
        "scaled_data = scaler.fit_transform(train7['usage'].values.reshape(-1,1)) \n",
        "\n",
        "prediction_days = 90\n",
        "\n",
        "x_train7 = []\n",
        "y_train7 = []\n",
        "\n",
        "for x in range(prediction_days, len(scaled_data)):\n",
        "    x_train7.append(scaled_data[x-prediction_days:x, 0])\n",
        "    y_train7.append(scaled_data[x, 0])\n",
        "\n",
        "\n",
        "x_train7, y_train7 = np.array(x_train7), np.array(y_train7)\n",
        "x_train7 = np.reshape(x_train7, (x_train7.shape[0], x_train7.shape[1], 1))\n",
        "\n",
        "model = Sequential()\n",
        "\n",
        "model.add(LSTM(units =128, activation='relu', return_sequences=True, input_shape = (x_train7.shape[1],1)))\n",
        "model.add(Dropout(0.2))\n",
        "model.add(LSTM(units =128, activation='relu', return_sequences=True))\n",
        "model.add(Dropout(0.2))\n",
        "model.add(LSTM(units =128, activation='relu', return_sequences=False))\n",
        "model.add(Dropout(0.2))\n",
        "model.add(Dense(units=1))\n",
        "\n",
        "model.compile(optimizer='adam', loss='mean_squared_error')\n",
        "model.summary()\n",
        "\n",
        "history = model.fit(x_train7, y_train7, epochs = 25, batch_size=32, validation_split=0.1)\n",
        "\n",
        "\n",
        "model_inputs = test7['usage'].values\n",
        "model_inputs = model_inputs.reshape(-1,1)\n",
        "model_inputs = scaler.transform(model_inputs)\n",
        "\n",
        "\n",
        "x_test7 = np.array(model_inputs)\n",
        "x_test7 = np.reshape(x_test7, (x_test7.shape[0], x_test7.shape[1], 1))\n",
        "\n",
        "pred = model.predict(model_inputs)\n",
        "pred = scaler.inverse_transform(pred)\n",
        "scalerpred = MinMaxScaler(feature_range=(min(train7['usage'].values),max(train7['usage'].values)))\n",
        "scaled_pred = scalerpred.fit_transform(pred)"
      ],
      "metadata": {
        "colab": {
          "base_uri": "https://localhost:8080/"
        },
        "id": "kVxZKeCg_eNp",
        "outputId": "7b7091ee-e805-41aa-9e63-07d6b4ff5b22"
      },
      "execution_count": 85,
      "outputs": [
        {
          "output_type": "stream",
          "name": "stdout",
          "text": [
            "Model: \"sequential_23\"\n",
            "_________________________________________________________________\n",
            " Layer (type)                Output Shape              Param #   \n",
            "=================================================================\n",
            " lstm_69 (LSTM)              (None, 90, 128)           66560     \n",
            "                                                                 \n",
            " dropout_69 (Dropout)        (None, 90, 128)           0         \n",
            "                                                                 \n",
            " lstm_70 (LSTM)              (None, 90, 128)           131584    \n",
            "                                                                 \n",
            " dropout_70 (Dropout)        (None, 90, 128)           0         \n",
            "                                                                 \n",
            " lstm_71 (LSTM)              (None, 128)               131584    \n",
            "                                                                 \n",
            " dropout_71 (Dropout)        (None, 128)               0         \n",
            "                                                                 \n",
            " dense_23 (Dense)            (None, 1)                 129       \n",
            "                                                                 \n",
            "=================================================================\n",
            "Total params: 329,857\n",
            "Trainable params: 329,857\n",
            "Non-trainable params: 0\n",
            "_________________________________________________________________\n",
            "Epoch 1/25\n",
            "32/32 [==============================] - 14s 332ms/step - loss: 0.0758 - val_loss: 0.0473\n",
            "Epoch 2/25\n",
            "32/32 [==============================] - 10s 319ms/step - loss: 0.0374 - val_loss: 0.0386\n",
            "Epoch 3/25\n",
            "32/32 [==============================] - 10s 318ms/step - loss: 0.0355 - val_loss: 0.0367\n",
            "Epoch 4/25\n",
            "32/32 [==============================] - 10s 318ms/step - loss: 0.0353 - val_loss: 0.0526\n",
            "Epoch 5/25\n",
            "32/32 [==============================] - 10s 320ms/step - loss: 0.0364 - val_loss: 0.0352\n",
            "Epoch 6/25\n",
            "32/32 [==============================] - 10s 319ms/step - loss: 0.0369 - val_loss: 0.0360\n",
            "Epoch 7/25\n",
            "32/32 [==============================] - 10s 319ms/step - loss: 0.0354 - val_loss: 0.0393\n",
            "Epoch 8/25\n",
            "32/32 [==============================] - 10s 319ms/step - loss: 0.0356 - val_loss: 0.0441\n",
            "Epoch 9/25\n",
            "32/32 [==============================] - 10s 324ms/step - loss: 0.0345 - val_loss: 0.0436\n",
            "Epoch 10/25\n",
            "32/32 [==============================] - 10s 320ms/step - loss: 0.0342 - val_loss: 0.0382\n",
            "Epoch 11/25\n",
            "32/32 [==============================] - 10s 321ms/step - loss: 0.0304 - val_loss: 0.0294\n",
            "Epoch 12/25\n",
            "32/32 [==============================] - 10s 320ms/step - loss: 0.0239 - val_loss: 0.0162\n",
            "Epoch 13/25\n",
            "32/32 [==============================] - 10s 320ms/step - loss: 0.0197 - val_loss: 0.0208\n",
            "Epoch 14/25\n",
            "32/32 [==============================] - 10s 319ms/step - loss: 0.0177 - val_loss: 0.0233\n",
            "Epoch 15/25\n",
            "32/32 [==============================] - 10s 320ms/step - loss: 0.0158 - val_loss: 0.0140\n",
            "Epoch 16/25\n",
            "32/32 [==============================] - 10s 320ms/step - loss: 0.0159 - val_loss: 0.0177\n",
            "Epoch 17/25\n",
            "32/32 [==============================] - 10s 320ms/step - loss: 0.0140 - val_loss: 0.0211\n",
            "Epoch 18/25\n",
            "32/32 [==============================] - 10s 319ms/step - loss: 0.0147 - val_loss: 0.0181\n",
            "Epoch 19/25\n",
            "32/32 [==============================] - 10s 322ms/step - loss: 0.0132 - val_loss: 0.0145\n",
            "Epoch 20/25\n",
            "32/32 [==============================] - 10s 319ms/step - loss: 0.0125 - val_loss: 0.0131\n",
            "Epoch 21/25\n",
            "32/32 [==============================] - 10s 317ms/step - loss: 0.0113 - val_loss: 0.0169\n",
            "Epoch 22/25\n",
            "32/32 [==============================] - 10s 318ms/step - loss: 0.0107 - val_loss: 0.0104\n",
            "Epoch 23/25\n",
            "32/32 [==============================] - 10s 320ms/step - loss: 0.0106 - val_loss: 0.0107\n",
            "Epoch 24/25\n",
            "32/32 [==============================] - 10s 316ms/step - loss: 0.0108 - val_loss: 0.0087\n",
            "Epoch 25/25\n",
            "32/32 [==============================] - 10s 320ms/step - loss: 0.0097 - val_loss: 0.0081\n"
          ]
        },
        {
          "output_type": "stream",
          "name": "stderr",
          "text": [
            "WARNING:tensorflow:Model was constructed with shape (None, 90, 1) for input KerasTensor(type_spec=TensorSpec(shape=(None, 90, 1), dtype=tf.float32, name='lstm_69_input'), name='lstm_69_input', description=\"created by layer 'lstm_69_input'\"), but it was called on an input with incompatible shape (None, 1, 1).\n"
          ]
        }
      ]
    },
    {
      "cell_type": "code",
      "source": [
        "plt.plot(scaled_pred,label='Prediciton')\n",
        "plt.plot(np.arange(0,90,1),test7.usage,label='Actual')\n",
        "plt.hlines(test7.total_capacity,0,90,color=\"red\",label='Total Capacity')\n",
        "plt.ylabel('Usage')\n",
        "plt.xlabel('Date')\n",
        "plt.title(\"Forecasting for Usage\")\n",
        "plt.legend(loc='upper left', fontsize=8)\n",
        "plt.show()\n",
        "\n",
        "print('MAE:', mean_absolute_error(test7.usage, scaled_pred))\n",
        "print('MSE:', mean_squared_error(test7.usage, scaled_pred))"
      ],
      "metadata": {
        "colab": {
          "base_uri": "https://localhost:8080/",
          "height": 329
        },
        "id": "Bf8Ew4LlALFf",
        "outputId": "45426032-eafa-4e61-c88e-a5a5b7560e60"
      },
      "execution_count": 86,
      "outputs": [
        {
          "output_type": "display_data",
          "data": {
            "text/plain": [
              "<Figure size 432x288 with 1 Axes>"
            ],
            "image/png": "[encoded data removed]"
          },
          "metadata": {
            "needs_background": "light"
          }
        },
        {
          "output_type": "stream",
          "name": "stdout",
          "text": [
            "MAE: 119.78802083333333\n",
            "MSE: 18741.70908610026\n"
          ]
        }
      ]
    },
    {
      "cell_type": "code",
      "source": [
        "scaler = MinMaxScaler(feature_range=(0,1))\n",
        "scaled_data = scaler.fit_transform(train8['usage'].values.reshape(-1,1)) \n",
        "\n",
        "prediction_days = 90\n",
        "\n",
        "x_train8 = []\n",
        "y_train8 = []\n",
        "\n",
        "for x in range(prediction_days, len(scaled_data)):\n",
        "    x_train8.append(scaled_data[x-prediction_days:x, 0])\n",
        "    y_train8.append(scaled_data[x, 0])\n",
        "\n",
        "\n",
        "x_train8, y_train8 = np.array(x_train8), np.array(y_train8)\n",
        "x_train8 = np.reshape(x_train8, (x_train8.shape[0], x_train8.shape[1], 1))\n",
        "\n",
        "model = Sequential()\n",
        "\n",
        "model.add(LSTM(units =128, activation='relu', return_sequences=True, input_shape = (x_train8.shape[1],1)))\n",
        "model.add(Dropout(0.2))\n",
        "model.add(LSTM(units =128, activation='relu', return_sequences=True))\n",
        "model.add(Dropout(0.2))\n",
        "model.add(LSTM(units =128, activation='relu', return_sequences=False))\n",
        "model.add(Dropout(0.2))\n",
        "model.add(Dense(units=1))\n",
        "\n",
        "model.compile(optimizer='adam', loss='mean_squared_error')\n",
        "model.summary()\n",
        "\n",
        "history = model.fit(x_train8, y_train8, epochs = 25, batch_size=32, validation_split=0.1)\n",
        "\n",
        "\n",
        "model_inputs = test8['usage'].values\n",
        "model_inputs = model_inputs.reshape(-1,1)\n",
        "model_inputs = scaler.transform(model_inputs)\n",
        "\n",
        "\n",
        "x_test8 = np.array(model_inputs)\n",
        "x_test8 = np.reshape(x_test8, (x_test8.shape[0], x_test8.shape[1], 1))\n",
        "\n",
        "pred = model.predict(model_inputs)\n",
        "pred = scaler.inverse_transform(pred)\n",
        "scalerpred = MinMaxScaler(feature_range=(min(train8['usage'].values),max(train8['usage'].values)))\n",
        "scaled_pred = scalerpred.fit_transform(pred)"
      ],
      "metadata": {
        "colab": {
          "base_uri": "https://localhost:8080/"
        },
        "id": "n7fJ0SKEAOOl",
        "outputId": "d009ec3b-a943-4ef1-de74-f9c72bef8c43"
      },
      "execution_count": 87,
      "outputs": [
        {
          "output_type": "stream",
          "name": "stdout",
          "text": [
            "Model: \"sequential_24\"\n",
            "_________________________________________________________________\n",
            " Layer (type)                Output Shape              Param #   \n",
            "=================================================================\n",
            " lstm_72 (LSTM)              (None, 90, 128)           66560     \n",
            "                                                                 \n",
            " dropout_72 (Dropout)        (None, 90, 128)           0         \n",
            "                                                                 \n",
            " lstm_73 (LSTM)              (None, 90, 128)           131584    \n",
            "                                                                 \n",
            " dropout_73 (Dropout)        (None, 90, 128)           0         \n",
            "                                                                 \n",
            " lstm_74 (LSTM)              (None, 128)               131584    \n",
            "                                                                 \n",
            " dropout_74 (Dropout)        (None, 128)               0         \n",
            "                                                                 \n",
            " dense_24 (Dense)            (None, 1)                 129       \n",
            "                                                                 \n",
            "=================================================================\n",
            "Total params: 329,857\n",
            "Trainable params: 329,857\n",
            "Non-trainable params: 0\n",
            "_________________________________________________________________\n",
            "Epoch 1/25\n",
            "32/32 [==============================] - 14s 333ms/step - loss: 0.1141 - val_loss: 0.0578\n",
            "Epoch 2/25\n",
            "32/32 [==============================] - 10s 319ms/step - loss: 0.0621 - val_loss: 0.0488\n",
            "Epoch 3/25\n",
            "32/32 [==============================] - 10s 318ms/step - loss: 0.0609 - val_loss: 0.0491\n",
            "Epoch 4/25\n",
            "32/32 [==============================] - 10s 317ms/step - loss: 0.0598 - val_loss: 0.0500\n",
            "Epoch 5/25\n",
            "32/32 [==============================] - 10s 320ms/step - loss: 0.0608 - val_loss: 0.0467\n",
            "Epoch 6/25\n",
            "32/32 [==============================] - 10s 320ms/step - loss: 0.0576 - val_loss: 0.0452\n",
            "Epoch 7/25\n",
            "32/32 [==============================] - 10s 320ms/step - loss: 0.0552 - val_loss: 0.0451\n",
            "Epoch 8/25\n",
            "32/32 [==============================] - 10s 318ms/step - loss: 0.0519 - val_loss: 0.0408\n",
            "Epoch 9/25\n",
            "32/32 [==============================] - 10s 318ms/step - loss: 0.0452 - val_loss: 0.0249\n",
            "Epoch 10/25\n",
            "32/32 [==============================] - 10s 318ms/step - loss: 0.0321 - val_loss: 0.0219\n",
            "Epoch 11/25\n",
            "32/32 [==============================] - 10s 317ms/step - loss: 0.0266 - val_loss: 0.0179\n",
            "Epoch 12/25\n",
            "32/32 [==============================] - 10s 321ms/step - loss: 0.0244 - val_loss: 0.0177\n",
            "Epoch 13/25\n",
            "32/32 [==============================] - 10s 320ms/step - loss: 0.0225 - val_loss: 0.0192\n",
            "Epoch 14/25\n",
            "32/32 [==============================] - 10s 320ms/step - loss: 0.0210 - val_loss: 0.0143\n",
            "Epoch 15/25\n",
            "32/32 [==============================] - 10s 319ms/step - loss: 0.0200 - val_loss: 0.0147\n",
            "Epoch 16/25\n",
            "32/32 [==============================] - 10s 319ms/step - loss: 0.0172 - val_loss: 0.0111\n",
            "Epoch 17/25\n",
            "32/32 [==============================] - 10s 322ms/step - loss: 0.0169 - val_loss: 0.0108\n",
            "Epoch 18/25\n",
            "32/32 [==============================] - 10s 319ms/step - loss: 0.0170 - val_loss: 0.0110\n",
            "Epoch 19/25\n",
            "32/32 [==============================] - 10s 319ms/step - loss: 0.0159 - val_loss: 0.0095\n",
            "Epoch 20/25\n",
            "32/32 [==============================] - 10s 320ms/step - loss: 0.0156 - val_loss: 0.0093\n",
            "Epoch 21/25\n",
            "32/32 [==============================] - 10s 317ms/step - loss: 0.0129 - val_loss: 0.0088\n",
            "Epoch 22/25\n",
            "32/32 [==============================] - 10s 316ms/step - loss: 0.0148 - val_loss: 0.0084\n",
            "Epoch 23/25\n",
            "32/32 [==============================] - 10s 319ms/step - loss: 0.0128 - val_loss: 0.0085\n",
            "Epoch 24/25\n",
            "32/32 [==============================] - 10s 318ms/step - loss: 0.0117 - val_loss: 0.0072\n",
            "Epoch 25/25\n",
            "32/32 [==============================] - 10s 318ms/step - loss: 0.0118 - val_loss: 0.0090\n"
          ]
        },
        {
          "output_type": "stream",
          "name": "stderr",
          "text": [
            "WARNING:tensorflow:Model was constructed with shape (None, 90, 1) for input KerasTensor(type_spec=TensorSpec(shape=(None, 90, 1), dtype=tf.float32, name='lstm_72_input'), name='lstm_72_input', description=\"created by layer 'lstm_72_input'\"), but it was called on an input with incompatible shape (None, 1, 1).\n"
          ]
        }
      ]
    },
    {
      "cell_type": "code",
      "source": [
        "plt.plot(scaled_pred,label='Prediciton')\n",
        "plt.plot(np.arange(0,90,1),test8.usage,label='Actual')\n",
        "plt.hlines(test8.total_capacity,0,90,color=\"red\",label='Total Capacity')\n",
        "plt.ylabel('Usage')\n",
        "plt.xlabel('Date')\n",
        "plt.title(\"Forecasting for Usage\")\n",
        "plt.legend(loc='upper left', fontsize=8)\n",
        "plt.show()\n",
        "\n",
        "print('MAE:', mean_absolute_error(test8.usage, scaled_pred))\n",
        "print('MSE:', mean_squared_error(test8.usage, scaled_pred))"
      ],
      "metadata": {
        "colab": {
          "base_uri": "https://localhost:8080/",
          "height": 329
        },
        "id": "u3A5LTFwAgwA",
        "outputId": "83779c0e-9d05-4215-925e-b8871fd395cc"
      },
      "execution_count": 88,
      "outputs": [
        {
          "output_type": "display_data",
          "data": {
            "text/plain": [
              "<Figure size 432x288 with 1 Axes>"
            ],
            "image/png": "[encoded data removed]"
          },
          "metadata": {
            "needs_background": "light"
          }
        },
        {
          "output_type": "stream",
          "name": "stdout",
          "text": [
            "MAE: 83.47061631944445\n",
            "MSE: 7321.027863142225\n"
          ]
        }
      ]
    },
    {
      "cell_type": "code",
      "source": [
        "scaler = MinMaxScaler(feature_range=(0,1))\n",
        "scaled_data = scaler.fit_transform(train9['usage'].values.reshape(-1,1)) \n",
        "\n",
        "prediction_days = 90\n",
        "\n",
        "x_train9 = []\n",
        "y_train9 = []\n",
        "\n",
        "for x in range(prediction_days, len(scaled_data)):\n",
        "    x_train9.append(scaled_data[x-prediction_days:x, 0])\n",
        "    y_train9.append(scaled_data[x, 0])\n",
        "\n",
        "\n",
        "x_train9, y_train9 = np.array(x_train9), np.array(y_train9)\n",
        "x_train9 = np.reshape(x_train9, (x_train9.shape[0], x_train9.shape[1], 1))\n",
        "\n",
        "model = Sequential()\n",
        "\n",
        "model.add(LSTM(units =128, activation='relu', return_sequences=True, input_shape = (x_train9.shape[1],1)))\n",
        "model.add(Dropout(0.2))\n",
        "model.add(LSTM(units =128, activation='relu', return_sequences=True))\n",
        "model.add(Dropout(0.2))\n",
        "model.add(LSTM(units =128, activation='relu', return_sequences=False))\n",
        "model.add(Dropout(0.2))\n",
        "model.add(Dense(units=1))\n",
        "\n",
        "model.compile(optimizer='adam', loss='mean_squared_error')\n",
        "model.summary()\n",
        "\n",
        "history = model.fit(x_train9, y_train9, epochs = 25, batch_size=32, validation_split=0.1)\n",
        "\n",
        "\n",
        "model_inputs = test9['usage'].values\n",
        "model_inputs = model_inputs.reshape(-1,1)\n",
        "model_inputs = scaler.transform(model_inputs)\n",
        "\n",
        "\n",
        "x_test9 = np.array(model_inputs)\n",
        "x_test9 = np.reshape(x_test9, (x_test9.shape[0], x_test9.shape[1], 1))\n",
        "\n",
        "pred = model.predict(model_inputs)\n",
        "pred = scaler.inverse_transform(pred)\n",
        "scalerpred = MinMaxScaler(feature_range=(min(train9['usage'].values),max(train9['usage'].values)))\n",
        "scaled_pred = scalerpred.fit_transform(pred)"
      ],
      "metadata": {
        "colab": {
          "base_uri": "https://localhost:8080/"
        },
        "id": "_92Xhj9iA5MV",
        "outputId": "df4d2c41-50a5-4f03-c24a-d9780c30d9a6"
      },
      "execution_count": 89,
      "outputs": [
        {
          "output_type": "stream",
          "name": "stdout",
          "text": [
            "Model: \"sequential_25\"\n",
            "_________________________________________________________________\n",
            " Layer (type)                Output Shape              Param #   \n",
            "=================================================================\n",
            " lstm_75 (LSTM)              (None, 90, 128)           66560     \n",
            "                                                                 \n",
            " dropout_75 (Dropout)        (None, 90, 128)           0         \n",
            "                                                                 \n",
            " lstm_76 (LSTM)              (None, 90, 128)           131584    \n",
            "                                                                 \n",
            " dropout_76 (Dropout)        (None, 90, 128)           0         \n",
            "                                                                 \n",
            " lstm_77 (LSTM)              (None, 128)               131584    \n",
            "                                                                 \n",
            " dropout_77 (Dropout)        (None, 128)               0         \n",
            "                                                                 \n",
            " dense_25 (Dense)            (None, 1)                 129       \n",
            "                                                                 \n",
            "=================================================================\n",
            "Total params: 329,857\n",
            "Trainable params: 329,857\n",
            "Non-trainable params: 0\n",
            "_________________________________________________________________\n",
            "Epoch 1/25\n",
            "32/32 [==============================] - 14s 343ms/step - loss: 0.0575 - val_loss: 0.0389\n",
            "Epoch 2/25\n",
            "32/32 [==============================] - 10s 318ms/step - loss: 0.0291 - val_loss: 0.0348\n",
            "Epoch 3/25\n",
            "32/32 [==============================] - 10s 321ms/step - loss: 0.0291 - val_loss: 0.0336\n",
            "Epoch 4/25\n",
            "32/32 [==============================] - 10s 319ms/step - loss: 0.0296 - val_loss: 0.0337\n",
            "Epoch 5/25\n",
            "32/32 [==============================] - 10s 318ms/step - loss: 0.0290 - val_loss: 0.0376\n",
            "Epoch 6/25\n",
            "32/32 [==============================] - 10s 319ms/step - loss: 0.0285 - val_loss: 0.0316\n",
            "Epoch 7/25\n",
            "32/32 [==============================] - 10s 321ms/step - loss: 0.0283 - val_loss: 0.0313\n",
            "Epoch 8/25\n",
            "32/32 [==============================] - 10s 319ms/step - loss: 0.0285 - val_loss: 0.0308\n",
            "Epoch 9/25\n",
            "32/32 [==============================] - 10s 318ms/step - loss: 0.0286 - val_loss: 0.0302\n",
            "Epoch 10/25\n",
            "32/32 [==============================] - 10s 315ms/step - loss: 0.0260 - val_loss: 0.0434\n",
            "Epoch 11/25\n",
            "32/32 [==============================] - 10s 320ms/step - loss: 0.0217 - val_loss: 0.0154\n",
            "Epoch 12/25\n",
            "32/32 [==============================] - 10s 321ms/step - loss: 0.0174 - val_loss: 0.0167\n",
            "Epoch 13/25\n",
            "32/32 [==============================] - 10s 319ms/step - loss: 0.0155 - val_loss: 0.0107\n",
            "Epoch 14/25\n",
            "32/32 [==============================] - 10s 319ms/step - loss: 0.0153 - val_loss: 0.0210\n",
            "Epoch 15/25\n",
            "32/32 [==============================] - 10s 321ms/step - loss: 0.0144 - val_loss: 0.0145\n",
            "Epoch 16/25\n",
            "32/32 [==============================] - 10s 316ms/step - loss: 0.0133 - val_loss: 0.0157\n",
            "Epoch 17/25\n",
            "32/32 [==============================] - 10s 319ms/step - loss: 0.0130 - val_loss: 0.0104\n",
            "Epoch 18/25\n",
            "32/32 [==============================] - 10s 319ms/step - loss: 0.0118 - val_loss: 0.0105\n",
            "Epoch 19/25\n",
            "32/32 [==============================] - 10s 320ms/step - loss: 0.0119 - val_loss: 0.0114\n",
            "Epoch 20/25\n",
            "32/32 [==============================] - 10s 318ms/step - loss: 0.0112 - val_loss: 0.0100\n",
            "Epoch 21/25\n",
            "32/32 [==============================] - 10s 317ms/step - loss: 0.0115 - val_loss: 0.0090\n",
            "Epoch 22/25\n",
            "32/32 [==============================] - 10s 320ms/step - loss: 0.0102 - val_loss: 0.0109\n",
            "Epoch 23/25\n",
            "32/32 [==============================] - 10s 321ms/step - loss: 0.0105 - val_loss: 0.0098\n",
            "Epoch 24/25\n",
            "32/32 [==============================] - 10s 319ms/step - loss: 0.0090 - val_loss: 0.0070\n",
            "Epoch 25/25\n",
            "32/32 [==============================] - 10s 319ms/step - loss: 0.0093 - val_loss: 0.0103\n"
          ]
        },
        {
          "output_type": "stream",
          "name": "stderr",
          "text": [
            "WARNING:tensorflow:Model was constructed with shape (None, 90, 1) for input KerasTensor(type_spec=TensorSpec(shape=(None, 90, 1), dtype=tf.float32, name='lstm_75_input'), name='lstm_75_input', description=\"created by layer 'lstm_75_input'\"), but it was called on an input with incompatible shape (None, 1, 1).\n"
          ]
        }
      ]
    },
    {
      "cell_type": "code",
      "source": [
        "plt.plot(scaled_pred,label='Prediciton')\n",
        "plt.plot(np.arange(0,90,1),test9.usage,label='Actual')\n",
        "plt.hlines(test9.total_capacity,0,90,color=\"red\",label='Total Capacity')\n",
        "plt.ylabel('Usage')\n",
        "plt.xlabel('Date')\n",
        "plt.title(\"Forecasting for Usage\")\n",
        "plt.legend(loc='upper left', fontsize=8)\n",
        "plt.show()\n",
        "\n",
        "print('MAE:', mean_absolute_error(test9.usage, scaled_pred))\n",
        "print('MSE:', mean_squared_error(test9.usage, scaled_pred))"
      ],
      "metadata": {
        "colab": {
          "base_uri": "https://localhost:8080/",
          "height": 329
        },
        "id": "L1nsUAnuBPs_",
        "outputId": "b0187e58-5a5b-4482-ffcc-b16117b3a582"
      },
      "execution_count": 90,
      "outputs": [
        {
          "output_type": "display_data",
          "data": {
            "text/plain": [
              "<Figure size 432x288 with 1 Axes>"
            ],
            "image/png": "[encoded data removed]"
          },
          "metadata": {
            "needs_background": "light"
          }
        },
        {
          "output_type": "stream",
          "name": "stdout",
          "text": [
            "MAE: 86.72508680555555\n",
            "MSE: 10603.196233791776\n"
          ]
        }
      ]
    }
  ]
}